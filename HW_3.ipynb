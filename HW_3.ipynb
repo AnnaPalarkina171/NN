{
  "nbformat": 4,
  "nbformat_minor": 0,
  "metadata": {
    "colab": {
      "name": "HW_3.ipynb",
      "provenance": [],
      "collapsed_sections": [
        "779ZgvycYY3T",
        "jmtEgepVY1e5",
        "ZACVs8zttx1F",
        "lXA6holM0r3t"
      ]
    },
    "kernelspec": {
      "name": "python3",
      "display_name": "Python 3"
    },
    "accelerator": "GPU"
  },
  "cells": [
    {
      "cell_type": "markdown",
      "metadata": {
        "id": "779ZgvycYY3T"
      },
      "source": [
        "# Скачиваем данные"
      ]
    },
    {
      "cell_type": "code",
      "metadata": {
        "id": "nt9NYJ9XXy5f",
        "colab": {
          "base_uri": "https://localhost:8080/"
        },
        "outputId": "ab49fb7c-c2af-4a4d-c8fe-7074bce329e7"
      },
      "source": [
        "!pip install pandas\r\n",
        "!pip install torch\r\n",
        "!pip install nltk\r\n",
        "!pip install tqdm\r\n",
        "!pip install seaborn\r\n",
        "!pip install numpy\r\n",
        "!pip install sklearn"
      ],
      "execution_count": 43,
      "outputs": [
        {
          "output_type": "stream",
          "text": [
            "Requirement already satisfied: pandas in /usr/local/lib/python3.6/dist-packages (1.1.5)\n",
            "Requirement already satisfied: pytz>=2017.2 in /usr/local/lib/python3.6/dist-packages (from pandas) (2018.9)\n",
            "Requirement already satisfied: numpy>=1.15.4 in /usr/local/lib/python3.6/dist-packages (from pandas) (1.19.4)\n",
            "Requirement already satisfied: python-dateutil>=2.7.3 in /usr/local/lib/python3.6/dist-packages (from pandas) (2.8.1)\n",
            "Requirement already satisfied: six>=1.5 in /usr/local/lib/python3.6/dist-packages (from python-dateutil>=2.7.3->pandas) (1.15.0)\n",
            "Requirement already satisfied: torch in /usr/local/lib/python3.6/dist-packages (1.7.0+cu101)\n",
            "Requirement already satisfied: numpy in /usr/local/lib/python3.6/dist-packages (from torch) (1.19.4)\n",
            "Requirement already satisfied: typing-extensions in /usr/local/lib/python3.6/dist-packages (from torch) (3.7.4.3)\n",
            "Requirement already satisfied: future in /usr/local/lib/python3.6/dist-packages (from torch) (0.16.0)\n",
            "Requirement already satisfied: dataclasses in /usr/local/lib/python3.6/dist-packages (from torch) (0.8)\n",
            "Requirement already satisfied: nltk in /usr/local/lib/python3.6/dist-packages (3.2.5)\n",
            "Requirement already satisfied: six in /usr/local/lib/python3.6/dist-packages (from nltk) (1.15.0)\n",
            "Requirement already satisfied: tqdm in /usr/local/lib/python3.6/dist-packages (4.41.1)\n",
            "Requirement already satisfied: seaborn in /usr/local/lib/python3.6/dist-packages (0.11.0)\n",
            "Requirement already satisfied: matplotlib>=2.2 in /usr/local/lib/python3.6/dist-packages (from seaborn) (3.2.2)\n",
            "Requirement already satisfied: pandas>=0.23 in /usr/local/lib/python3.6/dist-packages (from seaborn) (1.1.5)\n",
            "Requirement already satisfied: numpy>=1.15 in /usr/local/lib/python3.6/dist-packages (from seaborn) (1.19.4)\n",
            "Requirement already satisfied: scipy>=1.0 in /usr/local/lib/python3.6/dist-packages (from seaborn) (1.4.1)\n",
            "Requirement already satisfied: python-dateutil>=2.1 in /usr/local/lib/python3.6/dist-packages (from matplotlib>=2.2->seaborn) (2.8.1)\n",
            "Requirement already satisfied: cycler>=0.10 in /usr/local/lib/python3.6/dist-packages (from matplotlib>=2.2->seaborn) (0.10.0)\n",
            "Requirement already satisfied: pyparsing!=2.0.4,!=2.1.2,!=2.1.6,>=2.0.1 in /usr/local/lib/python3.6/dist-packages (from matplotlib>=2.2->seaborn) (2.4.7)\n",
            "Requirement already satisfied: kiwisolver>=1.0.1 in /usr/local/lib/python3.6/dist-packages (from matplotlib>=2.2->seaborn) (1.3.1)\n",
            "Requirement already satisfied: pytz>=2017.2 in /usr/local/lib/python3.6/dist-packages (from pandas>=0.23->seaborn) (2018.9)\n",
            "Requirement already satisfied: six>=1.5 in /usr/local/lib/python3.6/dist-packages (from python-dateutil>=2.1->matplotlib>=2.2->seaborn) (1.15.0)\n",
            "Requirement already satisfied: numpy in /usr/local/lib/python3.6/dist-packages (1.19.4)\n",
            "Requirement already satisfied: sklearn in /usr/local/lib/python3.6/dist-packages (0.0)\n",
            "Requirement already satisfied: scikit-learn in /usr/local/lib/python3.6/dist-packages (from sklearn) (0.22.2.post1)\n",
            "Requirement already satisfied: numpy>=1.11.0 in /usr/local/lib/python3.6/dist-packages (from scikit-learn->sklearn) (1.19.4)\n",
            "Requirement already satisfied: joblib>=0.11 in /usr/local/lib/python3.6/dist-packages (from scikit-learn->sklearn) (1.0.0)\n",
            "Requirement already satisfied: scipy>=0.17.0 in /usr/local/lib/python3.6/dist-packages (from scikit-learn->sklearn) (1.4.1)\n"
          ],
          "name": "stdout"
        }
      ]
    },
    {
      "cell_type": "code",
      "metadata": {
        "id": "q_QGGNWSYDcQ",
        "colab": {
          "base_uri": "https://localhost:8080/"
        },
        "outputId": "6f94fbfa-6430-4d34-dd4b-4001d31ba9a0"
      },
      "source": [
        "import pandas as pd\r\n",
        "import nltk\r\n",
        "nltk.download('punkt')"
      ],
      "execution_count": 44,
      "outputs": [
        {
          "output_type": "stream",
          "text": [
            "[nltk_data] Downloading package punkt to /root/nltk_data...\n",
            "[nltk_data]   Package punkt is already up-to-date!\n"
          ],
          "name": "stdout"
        },
        {
          "output_type": "execute_result",
          "data": {
            "text/plain": [
              "True"
            ]
          },
          "metadata": {
            "tags": []
          },
          "execution_count": 44
        }
      ]
    },
    {
      "cell_type": "code",
      "metadata": {
        "id": "Txy9O7JhYaia",
        "colab": {
          "base_uri": "https://localhost:8080/"
        },
        "outputId": "45ec8e85-dd05-4573-ccce-011b19360caa"
      },
      "source": [
        "!wget https://raw.githubusercontent.com/semensorokin/DLforNLP_course_material/master/Homework2/answers_subsample.csv"
      ],
      "execution_count": 45,
      "outputs": [
        {
          "output_type": "stream",
          "text": [
            "--2020-12-21 22:52:13--  https://raw.githubusercontent.com/semensorokin/DLforNLP_course_material/master/Homework2/answers_subsample.csv\n",
            "Resolving raw.githubusercontent.com (raw.githubusercontent.com)... 151.101.0.133, 151.101.64.133, 151.101.128.133, ...\n",
            "Connecting to raw.githubusercontent.com (raw.githubusercontent.com)|151.101.0.133|:443... connected.\n",
            "HTTP request sent, awaiting response... 200 OK\n",
            "Length: 28717126 (27M) [text/plain]\n",
            "Saving to: ‘answers_subsample.csv.1’\n",
            "\n",
            "answers_subsample.c 100%[===================>]  27.39M  --.-KB/s    in 0.1s    \n",
            "\n",
            "2020-12-21 22:52:14 (218 MB/s) - ‘answers_subsample.csv.1’ saved [28717126/28717126]\n",
            "\n"
          ],
          "name": "stdout"
        }
      ]
    },
    {
      "cell_type": "code",
      "metadata": {
        "id": "RcMldpkbYis0"
      },
      "source": [
        "data = pd.read_csv('answers_subsample.csv')"
      ],
      "execution_count": 46,
      "outputs": []
    },
    {
      "cell_type": "code",
      "metadata": {
        "colab": {
          "base_uri": "https://localhost:8080/",
          "height": 0
        },
        "id": "pUoWQMQpYrT9",
        "outputId": "d1c9aaed-f3d8-41fb-d90b-e52b5e36c04c"
      },
      "source": [
        "data.head(2)"
      ],
      "execution_count": 47,
      "outputs": [
        {
          "output_type": "execute_result",
          "data": {
            "text/html": [
              "<div>\n",
              "<style scoped>\n",
              "    .dataframe tbody tr th:only-of-type {\n",
              "        vertical-align: middle;\n",
              "    }\n",
              "\n",
              "    .dataframe tbody tr th {\n",
              "        vertical-align: top;\n",
              "    }\n",
              "\n",
              "    .dataframe thead th {\n",
              "        text-align: right;\n",
              "    }\n",
              "</style>\n",
              "<table border=\"1\" class=\"dataframe\">\n",
              "  <thead>\n",
              "    <tr style=\"text-align: right;\">\n",
              "      <th></th>\n",
              "      <th>category</th>\n",
              "      <th>text</th>\n",
              "    </tr>\n",
              "  </thead>\n",
              "  <tbody>\n",
              "    <tr>\n",
              "      <th>0</th>\n",
              "      <td>business</td>\n",
              "      <td>Могут ли в россельхозбанке дать в залог норков...</td>\n",
              "    </tr>\n",
              "    <tr>\n",
              "      <th>1</th>\n",
              "      <td>law</td>\n",
              "      <td>Может ли срочник перевестись на контракт после...</td>\n",
              "    </tr>\n",
              "  </tbody>\n",
              "</table>\n",
              "</div>"
            ],
            "text/plain": [
              "   category                                               text\n",
              "0  business  Могут ли в россельхозбанке дать в залог норков...\n",
              "1       law  Может ли срочник перевестись на контракт после..."
            ]
          },
          "metadata": {
            "tags": []
          },
          "execution_count": 47
        }
      ]
    },
    {
      "cell_type": "code",
      "metadata": {
        "colab": {
          "base_uri": "https://localhost:8080/"
        },
        "id": "-65YHu7QYvcW",
        "outputId": "eb86103e-9412-43bd-b3a9-384a59223e9b"
      },
      "source": [
        "data.category.value_counts() * 100 / data.shape[0]"
      ],
      "execution_count": 48,
      "outputs": [
        {
          "output_type": "execute_result",
          "data": {
            "text/plain": [
              "law         29.793211\n",
              "relax       22.016242\n",
              "business    19.309527\n",
              "food        18.367055\n",
              "love        10.513965\n",
              "Name: category, dtype: float64"
            ]
          },
          "metadata": {
            "tags": []
          },
          "execution_count": 48
        }
      ]
    },
    {
      "cell_type": "markdown",
      "metadata": {
        "id": "jmtEgepVY1e5"
      },
      "source": [
        "# Предобученные эмбеддинги"
      ]
    },
    {
      "cell_type": "code",
      "metadata": {
        "id": "PEH4LuDtY7ys",
        "colab": {
          "base_uri": "https://localhost:8080/"
        },
        "outputId": "7f37da04-90c1-4812-89aa-0d69e76a48f9"
      },
      "source": [
        "!wget https://dl.fbaipublicfiles.com/fasttext/vectors-crawl/cc.ru.300.vec.gz\r\n",
        "!gzip -d cc.ru.300.vec.gz"
      ],
      "execution_count": 49,
      "outputs": [
        {
          "output_type": "stream",
          "text": [
            "--2020-12-21 22:52:15--  https://dl.fbaipublicfiles.com/fasttext/vectors-crawl/cc.ru.300.vec.gz\n",
            "Resolving dl.fbaipublicfiles.com (dl.fbaipublicfiles.com)... 172.67.9.4, 104.22.75.142, 104.22.74.142, ...\n",
            "Connecting to dl.fbaipublicfiles.com (dl.fbaipublicfiles.com)|172.67.9.4|:443... connected.\n",
            "HTTP request sent, awaiting response... 200 OK\n",
            "Length: 1306357571 (1.2G) [binary/octet-stream]\n",
            "Saving to: ‘cc.ru.300.vec.gz’\n",
            "\n",
            "cc.ru.300.vec.gz    100%[===================>]   1.22G  27.1MB/s    in 47s     \n",
            "\n",
            "2020-12-21 22:53:02 (26.8 MB/s) - ‘cc.ru.300.vec.gz’ saved [1306357571/1306357571]\n",
            "\n",
            "gzip: cc.ru.300.vec already exists; do you wish to overwrite (y or n)? n\n",
            "\tnot overwritten\n"
          ],
          "name": "stdout"
        }
      ]
    },
    {
      "cell_type": "code",
      "metadata": {
        "id": "ycc_TvAcZAtF"
      },
      "source": [
        "from nltk.tokenize import word_tokenize, wordpunct_tokenize\r\n",
        "from tqdm import tqdm\r\n",
        "import seaborn as sns\r\n",
        "from matplotlib import pyplot as plt"
      ],
      "execution_count": 50,
      "outputs": []
    },
    {
      "cell_type": "code",
      "metadata": {
        "id": "FF733M5RZeql"
      },
      "source": [
        "# потом можете добавить свою предобработку\r\n",
        "\r\n",
        "def process_text(text):\r\n",
        "    \r\n",
        "    words = wordpunct_tokenize(text.lower())\r\n",
        "    \r\n",
        "    return words"
      ],
      "execution_count": 51,
      "outputs": []
    },
    {
      "cell_type": "code",
      "metadata": {
        "id": "_nmbeJQlsxjD",
        "colab": {
          "base_uri": "https://localhost:8080/"
        },
        "outputId": "483270ab-3830-4eca-cb46-20dcf65a81f4"
      },
      "source": [
        "word2freq = {} # слово: его частотность\r\n",
        "lengths = []\r\n",
        "\r\n",
        "for text in tqdm(data.text):\r\n",
        "    \r\n",
        "    words = process_text(text)\r\n",
        "    \r\n",
        "    lengths.append(len(words))\r\n",
        "    \r\n",
        "    for word in words:\r\n",
        "        \r\n",
        "        if word in word2freq:\r\n",
        "            word2freq[word] += 1\r\n",
        "        else:\r\n",
        "            word2freq[word] = 1"
      ],
      "execution_count": 52,
      "outputs": [
        {
          "output_type": "stream",
          "text": [
            "100%|██████████| 237779/237779 [00:02<00:00, 118229.78it/s]\n"
          ],
          "name": "stderr"
        }
      ]
    },
    {
      "cell_type": "code",
      "metadata": {
        "id": "A4bRYxdGtE9l",
        "colab": {
          "base_uri": "https://localhost:8080/",
          "height": 0
        },
        "outputId": "6a0cb7a8-179f-471f-dc83-b7a93d48cba7"
      },
      "source": [
        "plt.figure(figsize=(16, 10))\r\n",
        "plt.title('Распределение длин слов в текстах')\r\n",
        "plt.xlabel('Длина предложения')\r\n",
        "plt.ylabel('Доля')\r\n",
        "sns.distplot(lengths)"
      ],
      "execution_count": 53,
      "outputs": [
        {
          "output_type": "stream",
          "text": [
            "/usr/local/lib/python3.6/dist-packages/seaborn/distributions.py:2551: FutureWarning: `distplot` is a deprecated function and will be removed in a future version. Please adapt your code to use either `displot` (a figure-level function with similar flexibility) or `histplot` (an axes-level function for histograms).\n",
            "  warnings.warn(msg, FutureWarning)\n"
          ],
          "name": "stderr"
        },
        {
          "output_type": "execute_result",
          "data": {
            "text/plain": [
              "<matplotlib.axes._subplots.AxesSubplot at 0x7fd7e29ef7b8>"
            ]
          },
          "metadata": {
            "tags": []
          },
          "execution_count": 53
        },
        {
          "output_type": "display_data",
          "data": {
            "image/png": "[encoded data removed]",
            "text/plain": [
              "<Figure size 1152x720 with 1 Axes>"
            ]
          },
          "metadata": {
            "tags": [],
            "needs_background": "light"
          }
        }
      ]
    },
    {
      "cell_type": "code",
      "metadata": {
        "id": "3SlQ6XemtNR3",
        "colab": {
          "base_uri": "https://localhost:8080/",
          "height": 0
        },
        "outputId": "bdc8e5eb-cc07-40ba-ed03-9c5ce81cb1b2"
      },
      "source": [
        "upper_threshold = 32\r\n",
        "lower_threshold = 3\r\n",
        "\r\n",
        "correct_percent = len([sent_len for sent_len in lengths \r\n",
        "                       if sent_len <= upper_threshold and sent_len >= lower_threshold]) * 100 / len(lengths)\r\n",
        "\r\n",
        "'{:.2f} % наших текстов входят в промежуток от {} до {} слов'.format(correct_percent, lower_threshold, upper_threshold)"
      ],
      "execution_count": 54,
      "outputs": [
        {
          "output_type": "execute_result",
          "data": {
            "application/vnd.google.colaboratory.intrinsic+json": {
              "type": "string"
            },
            "text/plain": [
              "'99.66 % наших текстов входят в промежуток от 3 до 32 слов'"
            ]
          },
          "metadata": {
            "tags": []
          },
          "execution_count": 54
        }
      ]
    },
    {
      "cell_type": "code",
      "metadata": {
        "id": "fhLphFh7tmy5",
        "colab": {
          "base_uri": "https://localhost:8080/"
        },
        "outputId": "19d64fa6-7729-4cf4-9ba8-5c3aec90085a"
      },
      "source": [
        "\"Всего слов: \", len(word2freq)"
      ],
      "execution_count": 55,
      "outputs": [
        {
          "output_type": "execute_result",
          "data": {
            "text/plain": [
              "('Всего слов: ', 152179)"
            ]
          },
          "metadata": {
            "tags": []
          },
          "execution_count": 55
        }
      ]
    },
    {
      "cell_type": "code",
      "metadata": {
        "id": "0FfbzTK5ttWs",
        "colab": {
          "base_uri": "https://localhost:8080/",
          "height": 0
        },
        "outputId": "cf47fe92-3104-43d4-e27f-405af3c87321"
      },
      "source": [
        "'{} слов, которые встречались 3 и менее раз'.format(len([word for word in word2freq if word2freq[word] <= 3]))"
      ],
      "execution_count": 56,
      "outputs": [
        {
          "output_type": "execute_result",
          "data": {
            "application/vnd.google.colaboratory.intrinsic+json": {
              "type": "string"
            },
            "text/plain": [
              "'114332 слов, которые встречались 3 и менее раз'"
            ]
          },
          "metadata": {
            "tags": []
          },
          "execution_count": 56
        }
      ]
    },
    {
      "cell_type": "markdown",
      "metadata": {
        "id": "ZACVs8zttx1F"
      },
      "source": [
        "# Читаем файл с эмбеддингами\r\n",
        "### Этот файл с 300 числами для 2 000 000 слов и он может не влезть в память\r\n",
        "Поэтому прочитаем только те слова, которые мы знаем\r\n"
      ]
    },
    {
      "cell_type": "code",
      "metadata": {
        "id": "elXY6rv_tzv5",
        "colab": {
          "base_uri": "https://localhost:8080/"
        },
        "outputId": "cd4b3552-fcf5-4e88-a8ba-1c88962a20d8"
      },
      "source": [
        "import numpy as np\r\n",
        "word2index = {'PAD': 0}\r\n",
        "vectors = []\r\n",
        "    \r\n",
        "word2vec_file = open('cc.ru.300.vec')\r\n",
        "    \r\n",
        "\r\n",
        "# n_words = 2 000 000, embedding_dim = 300\r\n",
        "n_words, embedding_dim = word2vec_file.readline().split() \r\n",
        "n_words, embedding_dim = int(n_words), int(embedding_dim)\r\n",
        "\r\n",
        "# Zero vector for PAD\r\n",
        "vectors.append(np.zeros((1, embedding_dim)))\r\n",
        "vectors\r\n",
        "\r\n",
        "progress_bar = tqdm(desc='Read word2vec', total=n_words)\r\n",
        "\r\n",
        "while True:\r\n",
        "\r\n",
        "    line = word2vec_file.readline().strip()\r\n",
        "\r\n",
        "    if not line:\r\n",
        "        break\r\n",
        "        \r\n",
        "    current_parts = line.split()\r\n",
        "\r\n",
        "    current_word = ' '.join(current_parts[:-embedding_dim])\r\n",
        "\r\n",
        "    if current_word in word2freq:\r\n",
        "\r\n",
        "        word2index[current_word] = len(word2index)\r\n",
        "\r\n",
        "        current_vectors = current_parts[-embedding_dim:]\r\n",
        "        current_vectors = np.array(list(map(float, current_vectors)))\r\n",
        "        current_vectors = np.expand_dims(current_vectors, 0)\r\n",
        "\r\n",
        "        vectors.append(current_vectors)\r\n",
        "\r\n",
        "    progress_bar.update(1)\r\n",
        "\r\n",
        "progress_bar.close()\r\n",
        "\r\n",
        "word2vec_file.close()\r\n",
        "\r\n",
        "vectors = np.concatenate(vectors)"
      ],
      "execution_count": 57,
      "outputs": [
        {
          "output_type": "stream",
          "text": [
            "Read word2vec: 100%|██████████| 2000000/2000000 [02:05<00:00, 15922.38it/s]\n"
          ],
          "name": "stderr"
        }
      ]
    },
    {
      "cell_type": "code",
      "metadata": {
        "id": "6RluwPPGyrCN",
        "colab": {
          "base_uri": "https://localhost:8080/"
        },
        "outputId": "a4c1d2dc-a521-4597-8828-d2a1dd6293e3"
      },
      "source": [
        "unk_words = [word for word in word2freq if word not in word2index]\r\n",
        "unk_counts = [word2freq[word] for word in unk_words]\r\n",
        "n_unk = sum(unk_counts) * 100 / sum(list(word2freq.values()))\r\n",
        "\r\n",
        "sub_sample_unk_words = {word: word2freq[word] for word in unk_words}\r\n",
        "sorted_unk_words = list(sorted(sub_sample_unk_words, key=lambda x: sub_sample_unk_words[x], reverse=True))\r\n",
        "\r\n",
        "print('Мы не знаем {:.2f} % слов в датасете'.format(n_unk))\r\n",
        "print('Количество неизвестных слов {} из {}, то есть {:.2f} % уникальных слов в словаре'.format(\r\n",
        "    len(unk_words), len(word2freq), len(unk_words) * 100 / len(word2freq)))\r\n",
        "print('В среднем каждое встречается {:.2f} раз'.format(np.mean(unk_counts)))\r\n",
        "print()\r\n",
        "print('Топ 5 невошедших слов:')\r\n",
        "\r\n",
        "for i in range(5):\r\n",
        "    print(sorted_unk_words[i], 'с количеством вхождениий -', word2freq[sorted_unk_words[i]])"
      ],
      "execution_count": 58,
      "outputs": [
        {
          "output_type": "stream",
          "text": [
            "Мы не знаем 2.50 % слов в датасете\n",
            "Количество неизвестных слов 34561 из 152179, то есть 22.71 % уникальных слов в словаре\n",
            "В среднем каждое встречается 1.98 раз\n",
            "\n",
            "Топ 5 невошедших слов:\n",
            "??? с количеством вхождениий - 3641\n",
            "?? с количеством вхождениий - 2448\n",
            "!!! с количеством вхождениий - 2214\n",
            "?) с количеством вхождениий - 2069\n",
            "\"? с количеством вхождениий - 1429\n"
          ],
          "name": "stdout"
        }
      ]
    },
    {
      "cell_type": "markdown",
      "metadata": {
        "id": "l6gtP8ly1wou"
      },
      "source": [
        "# А что GPU?"
      ]
    },
    {
      "cell_type": "markdown",
      "metadata": {
        "id": "lRn7POff1ANY"
      },
      "source": [
        "- 128 - размер батча\r\n",
        "- 64 - количество слов\r\n",
        "- 1024 - эмбеддинг слова"
      ]
    },
    {
      "cell_type": "code",
      "metadata": {
        "id": "vOUlLpJg0v6-"
      },
      "source": [
        "import torch\r\n",
        "x = torch.rand(128, 64, 1024)\r\n",
        "lstm = torch.nn.LSTM(1024, 512, batch_first=True)"
      ],
      "execution_count": 59,
      "outputs": []
    },
    {
      "cell_type": "code",
      "metadata": {
        "id": "PBVGcCLA1NHv",
        "colab": {
          "base_uri": "https://localhost:8080/"
        },
        "outputId": "61676169-6cec-485d-fc5f-6bafd896ff2a"
      },
      "source": [
        "%%timeit\r\n",
        "\r\n",
        "pred = lstm(x)"
      ],
      "execution_count": 60,
      "outputs": [
        {
          "output_type": "stream",
          "text": [
            "1 loop, best of 3: 844 ms per loop\n"
          ],
          "name": "stdout"
        }
      ]
    },
    {
      "cell_type": "code",
      "metadata": {
        "id": "v6qzzFf31x5M",
        "colab": {
          "base_uri": "https://localhost:8080/"
        },
        "outputId": "d1eadf82-38f3-4856-f211-7e8d7923d07a"
      },
      "source": [
        "print('Доступна ли видеокарта:', torch.cuda.is_available())\r\n",
        "print('Если недоступна, поменяйте runtime, если в колабе')"
      ],
      "execution_count": 61,
      "outputs": [
        {
          "output_type": "stream",
          "text": [
            "Доступна ли видеокарта: True\n",
            "Если недоступна, поменяйте runtime, если в колабе\n"
          ],
          "name": "stdout"
        }
      ]
    },
    {
      "cell_type": "code",
      "metadata": {
        "id": "VHsXSEh218Cj"
      },
      "source": [
        "# универсальных способ задать device\r\n",
        "device = torch.device('cuda') if torch.cuda.is_available() else torch.device('cpu')\r\n",
        "# если доступна gpu, то давайте ее использовать, но в этом задании должны использовать"
      ],
      "execution_count": 62,
      "outputs": []
    },
    {
      "cell_type": "code",
      "metadata": {
        "id": "mU5vTYV039z4"
      },
      "source": [
        "# перенесли x на gpu\r\n",
        "x_gpu = x.to(device)\r\n",
        "\r\n",
        "# зададим lstm на gpu\r\n",
        "lstm_gpu = torch.nn.LSTM(1024, 512, batch_first=True)\r\n",
        "lstm_gpu = lstm_gpu.to(device)"
      ],
      "execution_count": 63,
      "outputs": []
    },
    {
      "cell_type": "code",
      "metadata": {
        "colab": {
          "base_uri": "https://localhost:8080/"
        },
        "id": "sjEROpJS4FHz",
        "outputId": "208c493c-a812-4779-da9b-ab4274804dff"
      },
      "source": [
        "%%timeit\r\n",
        "\r\n",
        "pred = lstm_gpu(x_gpu)"
      ],
      "execution_count": 64,
      "outputs": [
        {
          "output_type": "stream",
          "text": [
            "100 loops, best of 3: 16.3 ms per loop\n"
          ],
          "name": "stdout"
        }
      ]
    },
    {
      "cell_type": "markdown",
      "metadata": {
        "id": "_KrM8uy94NI_"
      },
      "source": [
        "# Важные и не очень интуитивные моменты про LSTM и CNN в торче"
      ]
    },
    {
      "cell_type": "markdown",
      "metadata": {
        "id": "lGdkd_Br5zbM"
      },
      "source": [
        "По умолчанию LSTM принимает данные с такой размерностью:\r\n",
        "```python\r\n",
        "(seq_len, batch, input_size)\r\n",
        "```\r\n",
        "Сделано это с целью оптимизации на более низком уровне.  \r\n",
        "Мы оперируем такими объектами:\r\n",
        "```python\r\n",
        "(batch, seq_len, input_size)\r\n",
        "```\r\n",
        "Чтобы LSTM у нас заработала правильно, мы можем либо передать параметр ```batch_first=True``` во время инициализации слоя,\r\n",
        "либо транспонировать (поменять) первую и вторую размерность у нашего x перед подачей в слой.  \r\n",
        "[Подробнее про LSTM](https://pytorch.org/docs/stable/nn.html#lstm)"
      ]
    },
    {
      "cell_type": "code",
      "metadata": {
        "colab": {
          "base_uri": "https://localhost:8080/"
        },
        "id": "hg-9KKpM4ZbR",
        "outputId": "4dd2b909-942d-43d0-ceda-3c9faeb68e56"
      },
      "source": [
        "# первый способ\r\n",
        "lstm = torch.nn.LSTM(1024, 512, batch_first=True)\r\n",
        "\r\n",
        "pred, mem = lstm(x)\r\n",
        "pred.shape"
      ],
      "execution_count": 65,
      "outputs": [
        {
          "output_type": "execute_result",
          "data": {
            "text/plain": [
              "torch.Size([128, 64, 512])"
            ]
          },
          "metadata": {
            "tags": []
          },
          "execution_count": 65
        }
      ]
    },
    {
      "cell_type": "code",
      "metadata": {
        "id": "zvg2gaw659zE"
      },
      "source": [
        "lstm = torch.nn.LSTM(1024, 512)\r\n",
        "\r\n",
        "# меняем размерность batch и seq_len местами\r\n",
        "x_transposed = x.transpose(0, 1)\r\n",
        "pred_transposed, mem = lstm(x_transposed)"
      ],
      "execution_count": 66,
      "outputs": []
    },
    {
      "cell_type": "code",
      "metadata": {
        "colab": {
          "base_uri": "https://localhost:8080/"
        },
        "id": "566qHcVv6FAj",
        "outputId": "af24d1b7-0537-48c4-b033-f051b93691f8"
      },
      "source": [
        "# у нас все еще осталась размерность (seq_len, batch, input_size)\r\n",
        "pred_transposed.shape"
      ],
      "execution_count": 67,
      "outputs": [
        {
          "output_type": "execute_result",
          "data": {
            "text/plain": [
              "torch.Size([64, 128, 512])"
            ]
          },
          "metadata": {
            "tags": []
          },
          "execution_count": 67
        }
      ]
    },
    {
      "cell_type": "code",
      "metadata": {
        "colab": {
          "base_uri": "https://localhost:8080/"
        },
        "id": "ubMEu4ZG6SGL",
        "outputId": "30217ef6-9acb-431c-fc07-a929e46764e9"
      },
      "source": [
        "# просто транспонируем еще раз\r\n",
        "pred = pred_transposed.transpose(0, 1)\r\n",
        "pred.shape"
      ],
      "execution_count": 68,
      "outputs": [
        {
          "output_type": "execute_result",
          "data": {
            "text/plain": [
              "torch.Size([128, 64, 512])"
            ]
          },
          "metadata": {
            "tags": []
          },
          "execution_count": 68
        }
      ]
    },
    {
      "cell_type": "markdown",
      "metadata": {
        "id": "bIWZY6Sz6l8O"
      },
      "source": [
        "# Conv1d & MaxPool1d"
      ]
    },
    {
      "cell_type": "markdown",
      "metadata": {
        "id": "eTI6WaXa6ooU"
      },
      "source": [
        "Примерно такая же ситуация происходит со сверточными слоями и пулингами.  \r\n",
        "1d реализация как раз для текстов, в ней матрица-фильтр ходит только по одной размерности.  \r\n",
        "[Подробнее про CNN](https://pytorch.org/docs/stable/nn.html#conv1d)  \r\n",
        "[Подробнее про пулинг](https://pytorch.org/docs/stable/nn.html#maxpool1d)  \r\n",
        "Ожидается такая размерность:\r\n",
        "```python\r\n",
        "(batch, input_size, seq_len)\r\n",
        "```\r\n",
        "Мы все еще хоти подавать такую размерность:\r\n",
        "```python\r\n",
        "(batch, seq_len, input_size)\r\n",
        "```\r\n",
        "В случае со свертками и пулингами у нас есть вариант только транспонировать x перед подачей и транспонировать полученный результат. Обратите внимание, что транспонируем мы первую и вторую размерность (индексация с нуля)."
      ]
    },
    {
      "cell_type": "code",
      "metadata": {
        "colab": {
          "base_uri": "https://localhost:8080/"
        },
        "id": "vlolHeNh7CEm",
        "outputId": "097741ac-732b-4e49-8fff-a864199a38ab"
      },
      "source": [
        "x.shape"
      ],
      "execution_count": 69,
      "outputs": [
        {
          "output_type": "execute_result",
          "data": {
            "text/plain": [
              "torch.Size([128, 64, 1024])"
            ]
          },
          "metadata": {
            "tags": []
          },
          "execution_count": 69
        }
      ]
    },
    {
      "cell_type": "code",
      "metadata": {
        "id": "DiID4Stv7Eeu"
      },
      "source": [
        "# in_channels - размер входных эмбеддингов\r\n",
        "# out_channels - количество/какой размер эмбеддингов мы хотим получить\r\n",
        "# kernel_size - размер окна/н-граммы\r\n",
        "cnn = torch.nn.Conv1d(in_channels=1024, out_channels=512, kernel_size=3)"
      ],
      "execution_count": 70,
      "outputs": []
    },
    {
      "cell_type": "code",
      "metadata": {
        "colab": {
          "base_uri": "https://localhost:8080/"
        },
        "id": "6wcwy1fl7LJ8",
        "outputId": "9aa16c05-25f4-425d-8756-1355362516fc"
      },
      "source": [
        "x_transposed = x.transpose(1, 2)\r\n",
        "x_transposed.shape\r\n",
        "# перевели в (batch, input_size, seq_len)"
      ],
      "execution_count": 71,
      "outputs": [
        {
          "output_type": "execute_result",
          "data": {
            "text/plain": [
              "torch.Size([128, 1024, 64])"
            ]
          },
          "metadata": {
            "tags": []
          },
          "execution_count": 71
        }
      ]
    },
    {
      "cell_type": "code",
      "metadata": {
        "colab": {
          "base_uri": "https://localhost:8080/"
        },
        "id": "tjeb14kH7N0t",
        "outputId": "635b2008-1b72-4a46-c762-87ff48d8ef77"
      },
      "source": [
        "pred_transposed = cnn(x_transposed)\r\n",
        "pred_transposed.shape\r\n",
        "# осталась разрмерность (batch, output_size, seq_len)"
      ],
      "execution_count": 72,
      "outputs": [
        {
          "output_type": "execute_result",
          "data": {
            "text/plain": [
              "torch.Size([128, 512, 62])"
            ]
          },
          "metadata": {
            "tags": []
          },
          "execution_count": 72
        }
      ]
    },
    {
      "cell_type": "code",
      "metadata": {
        "colab": {
          "base_uri": "https://localhost:8080/"
        },
        "id": "356bBT2U7RHJ",
        "outputId": "bde6be9d-c47b-4f4f-93bf-aff9bd70ef31"
      },
      "source": [
        "# переведем обратно в (batch, seq_len, input_size)\r\n",
        "pred = pred_transposed.transpose(1, 2)\r\n",
        "pred.shape"
      ],
      "execution_count": 73,
      "outputs": [
        {
          "output_type": "execute_result",
          "data": {
            "text/plain": [
              "torch.Size([128, 62, 512])"
            ]
          },
          "metadata": {
            "tags": []
          },
          "execution_count": 73
        }
      ]
    },
    {
      "cell_type": "markdown",
      "metadata": {
        "id": "sB1tn-Hg7YMT"
      },
      "source": [
        "# Замапим категории"
      ]
    },
    {
      "cell_type": "code",
      "metadata": {
        "id": "QIbexM5P7dD_"
      },
      "source": [
        "from torch.utils.data import Dataset, DataLoader"
      ],
      "execution_count": 74,
      "outputs": []
    },
    {
      "cell_type": "code",
      "metadata": {
        "colab": {
          "base_uri": "https://localhost:8080/"
        },
        "id": "ik9I9moR7gZD",
        "outputId": "c7efd0b2-f6a2-4ef4-f3e9-b40403394ea4"
      },
      "source": [
        "'UNK' in word2index"
      ],
      "execution_count": 75,
      "outputs": [
        {
          "output_type": "execute_result",
          "data": {
            "text/plain": [
              "False"
            ]
          },
          "metadata": {
            "tags": []
          },
          "execution_count": 75
        }
      ]
    },
    {
      "cell_type": "code",
      "metadata": {
        "colab": {
          "base_uri": "https://localhost:8080/"
        },
        "id": "qnI1Dvd67pGy",
        "outputId": "7befafa4-dbfa-4989-d05e-f0aa4f4cc3c8"
      },
      "source": [
        "cat_mapper = {cat: n for n, cat in enumerate(data.category.unique())}\r\n",
        "cat_mapper"
      ],
      "execution_count": 76,
      "outputs": [
        {
          "output_type": "execute_result",
          "data": {
            "text/plain": [
              "{'business': 0, 'food': 4, 'law': 1, 'love': 2, 'relax': 3}"
            ]
          },
          "metadata": {
            "tags": []
          },
          "execution_count": 76
        }
      ]
    },
    {
      "cell_type": "code",
      "metadata": {
        "id": "eE4DWvdC70w3"
      },
      "source": [
        "data.category = data.category.map(cat_mapper)"
      ],
      "execution_count": 77,
      "outputs": []
    },
    {
      "cell_type": "markdown",
      "metadata": {
        "id": "DnJ8Q4yh76U3"
      },
      "source": [
        "# Читалка данных"
      ]
    },
    {
      "cell_type": "markdown",
      "metadata": {
        "id": "wtR40avt8BSd"
      },
      "source": [
        "Что происходит ниже\r\n",
        "1. Мы задаем x_data, y_data (таргеты), word2index (маппер из слова в индекс слова), sequence_length (максимальная длина последовательности, если больше, ограничить ею), pad_token (токен паддинга и задаем его индекс pad_index).\r\n",
        "1. Загружаем данные:\r\n",
        "    1. Проходимся по датасету\r\n",
        "    1. Предобрабатываем каждый текст в датасете\r\n",
        "    1. Индексируем его\r\n",
        "    1. Паддим до нужной длины\r\n",
        "1. Когда нам нужно достать пример из датасета мы берем индексированный ```x``` и соответствующий этому индексу ```y```, наш ```x``` также паддим (или ограничиваем длину) и переводим в ```torch.Tensor(x).long()```. Для ```y``` этого делать не потребуется, в dataloader'е таргеты преобразуются в тензор сами.\r\n"
      ]
    },
    {
      "cell_type": "code",
      "metadata": {
        "id": "cKLsHfdk8q1a"
      },
      "source": [
        "class WordData(Dataset):\r\n",
        "    \r\n",
        "    def __init__(self, x_data, y_data, word2index, sequence_length=32, pad_token='PAD', verbose=True):\r\n",
        "        \r\n",
        "        super().__init__()\r\n",
        "        \r\n",
        "        self.x_data = []\r\n",
        "        self.y_data = y_data\r\n",
        "        \r\n",
        "        self.word2index = word2index\r\n",
        "        self.sequence_length = sequence_length\r\n",
        "        \r\n",
        "        self.pad_token = pad_token\r\n",
        "        self.pad_index = self.word2index[self.pad_token]\r\n",
        "        \r\n",
        "        self.load(x_data, verbose=verbose)\r\n",
        "        \r\n",
        "    @staticmethod\r\n",
        "    def process_text(text):\r\n",
        "        \r\n",
        "        # Место для вашей предобработки\r\n",
        "        \r\n",
        "        words = wordpunct_tokenize(text.lower())\r\n",
        "        #words = re.findall('[a-яА-ЯеЁ]+', text.lower())\r\n",
        "        return words\r\n",
        "        \r\n",
        "    def load(self, data, verbose=True):\r\n",
        "        \r\n",
        "        data_iterator = tqdm(data, desc='Loading data', disable=not verbose)\r\n",
        "        \r\n",
        "        for text in data_iterator:\r\n",
        "            \r\n",
        "            words = self.process_text(text)\r\n",
        "            \r\n",
        "            indexed_words = self.indexing(words)\r\n",
        "            \r\n",
        "            self.x_data.append(indexed_words)\r\n",
        "    \r\n",
        "    def indexing(self, tokenized_text):\r\n",
        "\r\n",
        "        # здесь мы не используем токен UNK, потому что мы его специально не учили\r\n",
        "        # становится непонятно какой же эмбеддинг присвоить неизвестному слову,\r\n",
        "        # поэтому просто выбрасываем наши неизветсные слова\r\n",
        "        \r\n",
        "        return [self.word2index[word] for word in tokenized_text if word in self.word2index]\r\n",
        "    \r\n",
        "    def padding(self, sequence):\r\n",
        "        \r\n",
        "        # Ограничить длину self.sequence_length\r\n",
        "        # если длина меньше максимально - западить\r\n",
        "        if len(sequence)< self.sequence_length:\r\n",
        "          add_pad = self.sequence_length - len(sequence)\r\n",
        "          return sequence+[self.pad_index]*add_pad\r\n",
        "        else:\r\n",
        "          return sequence[:self.sequence_length]\r\n",
        "    \r\n",
        "    def __len__(self):\r\n",
        "        \r\n",
        "        return len(self.x_data)\r\n",
        "    \r\n",
        "    def __getitem__(self, idx):\r\n",
        "        \r\n",
        "        x = self.x_data[idx]\r\n",
        "        x = self.padding(x)\r\n",
        "        x = torch.Tensor(x).long()\r\n",
        "        \r\n",
        "        y = self.y_data[idx]\r\n",
        "        \r\n",
        "        return x, y"
      ],
      "execution_count": 78,
      "outputs": []
    },
    {
      "cell_type": "code",
      "metadata": {
        "id": "JIIOK_ISYrzd"
      },
      "source": [
        "from sklearn.model_selection import train_test_split\r\n",
        "from sklearn.metrics import f1_score"
      ],
      "execution_count": 79,
      "outputs": []
    },
    {
      "cell_type": "code",
      "metadata": {
        "colab": {
          "base_uri": "https://localhost:8080/"
        },
        "id": "JW4rBnHnYtiB",
        "outputId": "bb0cb0fe-f95c-4043-f67b-68362d69143c"
      },
      "source": [
        "x_train, x_validation, y_train, y_validation = train_test_split(data.text, data.category, test_size=0.1)\r\n",
        "\r\n",
        "train_dataset = WordData(list(x_train), list(y_train), word2index)\r\n",
        "train_loader = DataLoader(train_dataset, batch_size=64)\r\n",
        "\r\n",
        "validation_dataset = WordData(list(x_validation), list(y_validation), word2index)\r\n",
        "validation_loader = DataLoader(validation_dataset, batch_size=64)"
      ],
      "execution_count": 80,
      "outputs": [
        {
          "output_type": "stream",
          "text": [
            "Loading data: 100%|██████████| 214001/214001 [00:02<00:00, 91898.66it/s]\n",
            "Loading data: 100%|██████████| 23778/23778 [00:00<00:00, 113825.98it/s]\n"
          ],
          "name": "stderr"
        }
      ]
    },
    {
      "cell_type": "code",
      "metadata": {
        "id": "HuYjHs1OYwar"
      },
      "source": [
        "for x, y in train_loader:\r\n",
        "    break"
      ],
      "execution_count": 81,
      "outputs": []
    },
    {
      "cell_type": "code",
      "metadata": {
        "colab": {
          "base_uri": "https://localhost:8080/"
        },
        "id": "IS_gYZpMYzMU",
        "outputId": "6f51e8d5-058d-4417-8536-00bbdaff4229"
      },
      "source": [
        "x"
      ],
      "execution_count": 82,
      "outputs": [
        {
          "output_type": "execute_result",
          "data": {
            "text/plain": [
              "tensor([[ 1407,   209, 21942,  ...,     0,     0,     0],\n",
              "        [  789, 10456,     3,  ...,     0,     0,     0],\n",
              "        [ 2226,   137,   348,  ...,     0,     0,     0],\n",
              "        ...,\n",
              "        [  494,   137,   953,  ...,     0,     0,     0],\n",
              "        [    4,   115,    14,  ...,     0,     0,     0],\n",
              "        [23905,    80,   667,  ...,     0,     0,     0]])"
            ]
          },
          "metadata": {
            "tags": []
          },
          "execution_count": 82
        }
      ]
    },
    {
      "cell_type": "code",
      "metadata": {
        "colab": {
          "base_uri": "https://localhost:8080/"
        },
        "id": "SL-P7QmVY0ib",
        "outputId": "f3aa079e-a3ee-4460-c3ef-3c7e6dd220fc"
      },
      "source": [
        "y"
      ],
      "execution_count": 83,
      "outputs": [
        {
          "output_type": "execute_result",
          "data": {
            "text/plain": [
              "tensor([0, 0, 2, 1, 4, 4, 3, 4, 2, 1, 0, 4, 0, 1, 3, 0, 4, 4, 4, 1, 3, 1, 0, 1,\n",
              "        1, 0, 1, 3, 3, 1, 4, 3, 3, 0, 0, 3, 1, 2, 3, 0, 4, 3, 2, 1, 1, 3, 2, 4,\n",
              "        3, 0, 4, 3, 1, 1, 4, 4, 4, 1, 0, 3, 1, 0, 3, 1])"
            ]
          },
          "metadata": {
            "tags": []
          },
          "execution_count": 83
        }
      ]
    },
    {
      "cell_type": "markdown",
      "metadata": {
        "id": "YvOrKSa2ZEDV"
      },
      "source": [
        "# Обучить нейронку"
      ]
    },
    {
      "cell_type": "code",
      "metadata": {
        "id": "aMgwnfiEZFxY"
      },
      "source": [
        "from math import sqrt\r\n",
        "\r\n",
        "class model_with_att(torch.nn.Module):\r\n",
        "  def __init__(self, matrix_w, n): #n - количетсво категорий\r\n",
        "        \r\n",
        "        super().__init__()\r\n",
        "\r\n",
        "        self.n = n\r\n",
        "        self.emb_size = 300\r\n",
        "        self.emb_layer = torch.nn.Embedding.from_pretrained(torch.Tensor(matrix_w))\r\n",
        "\r\n",
        "        # инициальзируем как adjustable hyperparametrs с картинки\r\n",
        "        lstm_size = 256\r\n",
        "        linear_size_3 = 256\r\n",
        "        cnn_output_size = 228\r\n",
        "        inner_linear_size = 256\r\n",
        "        \r\n",
        "\r\n",
        "        # задайте лстм, можно 2 уровня, лучше бидирекциональный, в доке торча есть инофрмация как это сделать в одну строчку\r\n",
        "        self.LSTM = torch.nn.LSTM(self.emb_size, \r\n",
        "                                  lstm_size,\r\n",
        "                                  num_layers=2,\r\n",
        "                                  batch_first=True,\r\n",
        "                                  dropout=0.1,\r\n",
        "                                  bidirectional=True)\r\n",
        "\r\n",
        "        # три линейных преобразования, размерность совпадает с выходом из лстм (если БИлстм то надо умножить ее на 2)\r\n",
        "        self.q_proj = torch.nn.Linear(in_features=2*lstm_size,\r\n",
        "                                      out_features = linear_size_3,\r\n",
        "                                      bias = True)\r\n",
        "        self.k_proj = torch.nn.Linear(in_features=2*lstm_size,\r\n",
        "                                      out_features = linear_size_3,\r\n",
        "                                      bias=True)\r\n",
        "        self.v_proj = torch.nn.Linear(in_features=2*lstm_size,\r\n",
        "                                      out_features=linear_size_3,\r\n",
        "                                      bias=True)\r\n",
        "\r\n",
        "        self.att_soft = torch.nn.Softmax(dim = 2)\r\n",
        "        \r\n",
        "        # три конволюционных фильтра с разными ядрами (3,4,5) чтобы были всякие нграммы ловить\r\n",
        "        self.cnn_3gr = torch.nn.Conv1d(linear_size_3, \r\n",
        "                                       cnn_output_size,\r\n",
        "                                       kernel_size=(3,),\r\n",
        "                                       stride=(1,))\r\n",
        "        self.cnn_4gr = torch.nn.Conv1d(linear_size_3, \r\n",
        "                                       cnn_output_size,\r\n",
        "                                       kernel_size=(4,),\r\n",
        "                                       stride=(1,))\r\n",
        "        self.cnn_5gr = torch.nn.Conv1d(linear_size_3, \r\n",
        "                                       cnn_output_size,\r\n",
        "                                       kernel_size= (5,),\r\n",
        "                                       stride = (1,))\r\n",
        "\r\n",
        "        # сверху накидываем два полносвязных слоя для классификации\r\n",
        "        self.linear_1 = torch.nn.Linear(in_features=3*cnn_output_size,\r\n",
        "                                        out_features=inner_linear_size,\r\n",
        "                                        bias=True)\r\n",
        "        self.relu = torch.nn.ReLU()\r\n",
        "        self.linear_2 = torch.nn.Linear(in_features=inner_linear_size, out_features=n)\r\n",
        "\r\n",
        "        \r\n",
        "  def forward(self, x):\r\n",
        "      #примените эмбеддинги\r\n",
        "      x_emb = self.emb_layer(x)\r\n",
        "      # транспонируйте тензор для лстм как было описано выше\r\n",
        "      x, _ = self.LSTM(x_emb) # применим лстм, не забываем что на выходе у него много всяких последовательностей, нам нужна только эта\r\n",
        "      # транспонируйте обратно\r\n",
        "\r\n",
        "      x_q = self.q_proj(x) #применим линейные преобразования для селф-эттеншена\r\n",
        "      x_k = self.k_proj(x)\r\n",
        "      x_v = self.v_proj(x)\r\n",
        "      X_k_T = x_q.transpose(2, 1)\r\n",
        "\r\n",
        "      att_scores = torch.bmm(x_q, X_k_T) / sqrt(self.emb_size)\r\n",
        "      # посмотрите в презентацию и перемножьте нужные тензора изспольуя функцию bmm из торча, перед этим одну из матриц обзательно транспонируйте\r\n",
        "      # результат обязательно поделите на корень из последней размерности (то есть на рземер эмбеддинга из предыдущего слоя)\r\n",
        "      att_dist = self.att_soft(att_scores) # накидываем софтмакс\r\n",
        "      # тут тоже что то с чем то нужно перемножить :)\r\n",
        "      attention_vectors = torch.bmm(att_dist, x_v) \r\n",
        "\r\n",
        "      x_att = attention_vectors.transpose(2,1) #транспонируем для конфолючионнах фильтров\r\n",
        "\r\n",
        "      x_cnn3 = self.cnn_3gr(x_att)\r\n",
        "      x_cnn4 = self.cnn_4gr(x_att)\r\n",
        "      x_cnn5 = self.cnn_5gr(x_att)\r\n",
        "\r\n",
        "      frst, _ =  x_cnn3.max(dim= -1,) # cделаем макс пуллинг\r\n",
        "      sc, _ = x_cnn4.max(dim= -1,)\r\n",
        "      thr, _ = x_cnn5.max(dim= -1,)\r\n",
        "      \r\n",
        "      x_cat = torch.cat((frst, sc, thr), dim=-1) # а теперь объединим результаты\r\n",
        "      \r\n",
        "      # пару полносвязных слоев с релу для классификации\r\n",
        "      x = self.linear_1(x_cat)\r\n",
        "      x = self.relu(x)    \r\n",
        "      x = self.linear_2(x)\r\n",
        "    \r\n",
        "      return x"
      ],
      "execution_count": 93,
      "outputs": []
    },
    {
      "cell_type": "code",
      "metadata": {
        "colab": {
          "base_uri": "https://localhost:8080/"
        },
        "id": "Zdqt6jRbaaAE",
        "outputId": "b28ea7a1-31c4-4411-9786-c1817e812912"
      },
      "source": [
        "n_classes = data.category.unique().shape[0]\r\n",
        "n_classes"
      ],
      "execution_count": 95,
      "outputs": [
        {
          "output_type": "execute_result",
          "data": {
            "text/plain": [
              "5"
            ]
          },
          "metadata": {
            "tags": []
          },
          "execution_count": 95
        }
      ]
    },
    {
      "cell_type": "code",
      "metadata": {
        "id": "_NWD8pbiacHD"
      },
      "source": [
        "model = model_with_att(vectors, n_classes)"
      ],
      "execution_count": 96,
      "outputs": []
    },
    {
      "cell_type": "code",
      "metadata": {
        "colab": {
          "base_uri": "https://localhost:8080/"
        },
        "id": "Xcuc0Ha4aeQN",
        "outputId": "e5aec670-4953-4f21-d433-92d65c9aec5b"
      },
      "source": [
        "model #если сделать batch_first=True, то можно не транспонировать батчи"
      ],
      "execution_count": 97,
      "outputs": [
        {
          "output_type": "execute_result",
          "data": {
            "text/plain": [
              "model_with_att(\n",
              "  (emb_layer): Embedding(117619, 300)\n",
              "  (LSTM): LSTM(300, 256, num_layers=2, batch_first=True, dropout=0.1, bidirectional=True)\n",
              "  (q_proj): Linear(in_features=512, out_features=256, bias=True)\n",
              "  (k_proj): Linear(in_features=512, out_features=256, bias=True)\n",
              "  (v_proj): Linear(in_features=512, out_features=256, bias=True)\n",
              "  (att_soft): Softmax(dim=2)\n",
              "  (cnn_3gr): Conv1d(256, 228, kernel_size=(3,), stride=(1,))\n",
              "  (cnn_4gr): Conv1d(256, 228, kernel_size=(4,), stride=(1,))\n",
              "  (cnn_5gr): Conv1d(256, 228, kernel_size=(5,), stride=(1,))\n",
              "  (linear_1): Linear(in_features=684, out_features=256, bias=True)\n",
              "  (relu): ReLU()\n",
              "  (linear_2): Linear(in_features=256, out_features=5, bias=True)\n",
              ")"
            ]
          },
          "metadata": {
            "tags": []
          },
          "execution_count": 97
        }
      ]
    },
    {
      "cell_type": "code",
      "metadata": {
        "id": "KYURLpfQahfg"
      },
      "source": [
        "with torch.no_grad():\r\n",
        "    pred = model(x)"
      ],
      "execution_count": 98,
      "outputs": []
    },
    {
      "cell_type": "code",
      "metadata": {
        "colab": {
          "base_uri": "https://localhost:8080/"
        },
        "id": "VHQA_kS9ai2d",
        "outputId": "2bb73379-92ce-4bd6-ce2e-64e719fe67a0"
      },
      "source": [
        "pred.shape"
      ],
      "execution_count": 99,
      "outputs": [
        {
          "output_type": "execute_result",
          "data": {
            "text/plain": [
              "torch.Size([64, 5])"
            ]
          },
          "metadata": {
            "tags": []
          },
          "execution_count": 99
        }
      ]
    },
    {
      "cell_type": "code",
      "metadata": {
        "id": "h09G0QJbal55"
      },
      "source": [
        "device = torch.device('cuda') if torch.cuda.is_available() else torch.device('cpu')"
      ],
      "execution_count": 100,
      "outputs": []
    },
    {
      "cell_type": "code",
      "metadata": {
        "id": "1J403qEsao9z"
      },
      "source": [
        "criterion = torch.nn.CrossEntropyLoss()\r\n",
        "optimizer = torch.optim.Adam(params=model.parameters())\r\n",
        "\r\n",
        "model = model.to(device)\r\n",
        "criterion = criterion.to(device)"
      ],
      "execution_count": 101,
      "outputs": []
    },
    {
      "cell_type": "code",
      "metadata": {
        "colab": {
          "base_uri": "https://localhost:8080/"
        },
        "id": "HgdBd1IbaqrY",
        "outputId": "b3ddf4f2-3004-4c46-8f88-ce628f794f5a"
      },
      "source": [
        "epochs = 10\r\n",
        "losses = []\r\n",
        "best_test_loss = 10.\r\n",
        "\r\n",
        "test_f1 = []\r\n",
        "\r\n",
        "for n_epoch in range(epochs):\r\n",
        "    \r\n",
        "    train_losses = []\r\n",
        "    test_losses = []\r\n",
        "    test_targets = []\r\n",
        "    test_pred_class = []\r\n",
        "    \r\n",
        "    progress_bar = tqdm(total=len(train_loader.dataset), desc='Epoch {}'.format(n_epoch + 1))\r\n",
        "    \r\n",
        "    model.train()\r\n",
        "    \r\n",
        "    for x, y in train_loader:\r\n",
        "\r\n",
        "        x = x.to(device)\r\n",
        "        y = y.to(device)\r\n",
        "        \r\n",
        "        optimizer.zero_grad()\r\n",
        "        \r\n",
        "        pred = model(x)\r\n",
        "        loss = criterion(pred, y)\r\n",
        "        \r\n",
        "        loss.backward()\r\n",
        "        \r\n",
        "        optimizer.step()\r\n",
        "        \r\n",
        "        train_losses.append(loss.item())\r\n",
        "        losses.append(loss.item())\r\n",
        "        \r\n",
        "        progress_bar.set_postfix(train_loss = np.mean(losses[-500:]))\r\n",
        "\r\n",
        "        progress_bar.update(x.shape[0])\r\n",
        "        \r\n",
        "    progress_bar.close()\r\n",
        "    \r\n",
        "    model.eval()\r\n",
        "    \r\n",
        "    for x, y in validation_loader:\r\n",
        "        \r\n",
        "        x = x.to(device)\r\n",
        "\r\n",
        "        with torch.no_grad():\r\n",
        "\r\n",
        "            pred = model(x)\r\n",
        "\r\n",
        "            pred = pred.cpu()\r\n",
        "\r\n",
        "            test_targets.append(y.numpy())\r\n",
        "            test_pred_class.append(np.argmax(pred, axis=1))\r\n",
        "\r\n",
        "            loss = criterion(pred, y)\r\n",
        "\r\n",
        "            test_losses.append(loss.item())\r\n",
        "        \r\n",
        "    mean_test_loss = np.mean(test_losses)\r\n",
        "\r\n",
        "    test_targets = np.concatenate(test_targets).squeeze()\r\n",
        "    test_pred_class = np.concatenate(test_pred_class).squeeze()\r\n",
        "\r\n",
        "    f1 = f1_score(test_targets, test_pred_class, average='micro')\r\n",
        "\r\n",
        "    test_f1.append(f1)\r\n",
        "    \r\n",
        "    print()\r\n",
        "    print('Losses: train - {:.3f}, test - {:.3f}'.format(np.mean(train_losses), mean_test_loss))\r\n",
        "\r\n",
        "    print('F1 test - {:.3f}'.format(f1))\r\n",
        "        \r\n",
        "    # Early stopping:\r\n",
        "    if mean_test_loss < best_test_loss:\r\n",
        "        best_test_loss = mean_test_loss\r\n",
        "    else:\r\n",
        "        print('Early stopping')\r\n",
        "        break"
      ],
      "execution_count": 102,
      "outputs": [
        {
          "output_type": "stream",
          "text": [
            "Epoch 1: 100%|██████████| 214001/214001 [01:19<00:00, 2685.34it/s, train_loss=0.479]\n",
            "Epoch 2:   0%|          | 448/214001 [00:00<01:17, 2767.39it/s, train_loss=0.479]"
          ],
          "name": "stderr"
        },
        {
          "output_type": "stream",
          "text": [
            "\n",
            "Losses: train - 0.572, test - 0.467\n",
            "F1 test - 0.830\n"
          ],
          "name": "stdout"
        },
        {
          "output_type": "stream",
          "text": [
            "Epoch 2: 100%|██████████| 214001/214001 [01:19<00:00, 2676.17it/s, train_loss=0.443]\n",
            "Epoch 3:   0%|          | 448/214001 [00:00<01:20, 2648.02it/s, train_loss=0.443]"
          ],
          "name": "stderr"
        },
        {
          "output_type": "stream",
          "text": [
            "\n",
            "Losses: train - 0.454, test - 0.448\n",
            "F1 test - 0.839\n"
          ],
          "name": "stdout"
        },
        {
          "output_type": "stream",
          "text": [
            "Epoch 3: 100%|██████████| 214001/214001 [01:20<00:00, 2670.71it/s, train_loss=0.421]\n",
            "Epoch 4:   0%|          | 448/214001 [00:00<01:17, 2761.84it/s, train_loss=0.42]"
          ],
          "name": "stderr"
        },
        {
          "output_type": "stream",
          "text": [
            "\n",
            "Losses: train - 0.427, test - 0.439\n",
            "F1 test - 0.843\n"
          ],
          "name": "stdout"
        },
        {
          "output_type": "stream",
          "text": [
            "Epoch 4: 100%|██████████| 214001/214001 [01:20<00:00, 2662.62it/s, train_loss=0.399]\n",
            "Epoch 5:   0%|          | 448/214001 [00:00<01:17, 2770.04it/s, train_loss=0.399]"
          ],
          "name": "stderr"
        },
        {
          "output_type": "stream",
          "text": [
            "\n",
            "Losses: train - 0.405, test - 0.439\n",
            "F1 test - 0.844\n"
          ],
          "name": "stdout"
        },
        {
          "output_type": "stream",
          "text": [
            "Epoch 5: 100%|██████████| 214001/214001 [01:20<00:00, 2650.30it/s, train_loss=0.381]\n"
          ],
          "name": "stderr"
        },
        {
          "output_type": "stream",
          "text": [
            "\n",
            "Losses: train - 0.384, test - 0.440\n",
            "F1 test - 0.845\n",
            "Early stopping\n"
          ],
          "name": "stdout"
        }
      ]
    }
  ]
}