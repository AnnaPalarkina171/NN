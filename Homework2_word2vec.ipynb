{
  "nbformat": 4,
  "nbformat_minor": 0,
  "metadata": {
    "kernelspec": {
      "display_name": "Python 3",
      "language": "python",
      "name": "python3"
    },
    "language_info": {
      "codemirror_mode": {
        "name": "ipython",
        "version": 3
      },
      "file_extension": ".py",
      "mimetype": "text/x-python",
      "name": "python",
      "nbconvert_exporter": "python",
      "pygments_lexer": "ipython3",
      "version": "3.6.8"
    },
    "colab": {
      "name": "Homework2_word2vec.ipynb",
      "provenance": []
    }
  },
  "cells": [
    {
      "cell_type": "code",
      "metadata": {
        "id": "vcvsraBj9tYn"
      },
      "source": [
        "import json\n",
        "import random\n",
        "from tqdm import tqdm\n",
        "import numpy as np\n",
        "\n",
        "from matplotlib import pyplot as plt\n",
        "from sklearn.decomposition import TruncatedSVD\n",
        "from sklearn.manifold import TSNE\n",
        "\n",
        "import torch\n",
        "\n",
        "from pylab import rcParams\n",
        "rcParams['figure.figsize'] = 15, 15"
      ],
      "execution_count": 2,
      "outputs": []
    },
    {
      "cell_type": "markdown",
      "metadata": {
        "id": "RSCjpk569tY0"
      },
      "source": [
        "# Что делать?\n",
        "Где есть пометка # CODE писать код\n",
        "\n",
        "[Полезный туториал](http://jalammar.github.io/illustrated-word2vec/)"
      ]
    },
    {
      "cell_type": "markdown",
      "metadata": {
        "id": "ENvQvi9L9tY1"
      },
      "source": [
        "# Загружаем данные\n",
        "Они уже обработанные и токенизированные. Процесс можно посмотреть в тетрадке 1.1 Processing corpus"
      ]
    },
    {
      "cell_type": "code",
      "metadata": {
        "id": "S-jSCvyuAo9y",
        "outputId": "bcf6524f-054e-4e87-8edd-6c721046b420",
        "colab": {
          "base_uri": "https://localhost:8080/"
        }
      },
      "source": [
        "!unzip -q '/content/drive/My Drive/PROGA/нейросети/data/processed_corpus.json.zip'"
      ],
      "execution_count": 3,
      "outputs": [
        {
          "output_type": "stream",
          "text": [
            "replace processed_corpus.json? [y]es, [n]o, [A]ll, [N]one, [r]ename: n\n"
          ],
          "name": "stdout"
        }
      ]
    },
    {
      "cell_type": "code",
      "metadata": {
        "id": "WrScLe2J9tY2"
      },
      "source": [
        "with open('/content/processed_corpus.json') as f:\n",
        "    corpus = json.load(f)"
      ],
      "execution_count": 4,
      "outputs": []
    },
    {
      "cell_type": "code",
      "metadata": {
        "id": "O1pF0E-59tY6",
        "outputId": "55f51756-835f-46d7-8875-21bed87b996d",
        "colab": {
          "base_uri": "https://localhost:8080/"
        }
      },
      "source": [
        "len(corpus)"
      ],
      "execution_count": 5,
      "outputs": [
        {
          "output_type": "execute_result",
          "data": {
            "text/plain": [
              "100000"
            ]
          },
          "metadata": {
            "tags": []
          },
          "execution_count": 5
        }
      ]
    },
    {
      "cell_type": "code",
      "metadata": {
        "id": "m9r63zHO9tZA",
        "outputId": "9c56b6aa-39f1-4197-ca85-1a801c0402ee",
        "colab": {
          "base_uri": "https://localhost:8080/"
        }
      },
      "source": [
        "for text in corpus[:5]:\n",
        "    print(' '.join(text))"
      ],
      "execution_count": 6,
      "outputs": [
        {
          "output_type": "stream",
          "text": [
            "второй UNK год окончательно разочаровать решить податься альфабанк\n",
            "вернуть денежный средство лицевой счёт либо зачесть счёт погашение кредит\n",
            "притом ситуация решиться участие течение сутки заявить\n",
            "мой ##число летний жизнь это самый неповоротливый работник банк который видеть\n",
            "везде написать вклад принимать очередь это\n"
          ],
          "name": "stdout"
        }
      ]
    },
    {
      "cell_type": "markdown",
      "metadata": {
        "id": "L4zSIbxq9tZE"
      },
      "source": [
        "# CBOW"
      ]
    },
    {
      "cell_type": "code",
      "metadata": {
        "id": "P8cFRFMu9tZE",
        "outputId": "4591caaf-32d7-4a70-d235-7237f0f66f9a",
        "colab": {
          "base_uri": "https://localhost:8080/",
          "height": 35
        }
      },
      "source": [
        "sample_text = corpus[1]\n",
        "' '.join(sample_text)"
      ],
      "execution_count": 7,
      "outputs": [
        {
          "output_type": "execute_result",
          "data": {
            "application/vnd.google.colaboratory.intrinsic+json": {
              "type": "string"
            },
            "text/plain": [
              "'вернуть денежный средство лицевой счёт либо зачесть счёт погашение кредит'"
            ]
          },
          "metadata": {
            "tags": []
          },
          "execution_count": 7
        }
      ]
    },
    {
      "cell_type": "markdown",
      "metadata": {
        "id": "pP1UYXQ99tZM"
      },
      "source": [
        "# Реализуйте разделение предложения на примеры методом CBOW"
      ]
    },
    {
      "cell_type": "code",
      "metadata": {
        "id": "r0fk3Li-9tZN",
        "outputId": "7353fcec-6b37-47f7-c5f7-67936e42f93c",
        "colab": {
          "base_uri": "https://localhost:8080/"
        }
      },
      "source": [
        "def cbow_split(tokens: list, window: int, pad_token='PAD'):\n",
        "  splits = []\n",
        "  for x in range(window):\n",
        "    tokens.append(pad_token)\n",
        "    tokens.insert(0,pad_token)\n",
        "  for i, el in enumerate(tokens):\n",
        "    if el != 'PAD':\n",
        "      left = tokens[i-window:i+window+1][:window]\n",
        "      right = tokens[i-window:i+window+1][window+1:]\n",
        "      splits.append((left,el,right))\n",
        "     \n",
        "  return splits\n",
        "\n",
        "\n",
        "# снова инициализирую sample_text, чтобы было как в тетрадке\n",
        "# просто корпус немного другой\n",
        "sample_text = ['вопрос', 'почему', 'например', 'китайский', 'японский','UNK']\n",
        "splits = cbow_split(sample_text, window=3)\n",
        "splits"
      ],
      "execution_count": 8,
      "outputs": [
        {
          "output_type": "execute_result",
          "data": {
            "text/plain": [
              "[(['PAD', 'PAD', 'PAD'], 'вопрос', ['почему', 'например', 'китайский']),\n",
              " (['PAD', 'PAD', 'вопрос'], 'почему', ['например', 'китайский', 'японский']),\n",
              " (['PAD', 'вопрос', 'почему'], 'например', ['китайский', 'японский', 'UNK']),\n",
              " (['вопрос', 'почему', 'например'], 'китайский', ['японский', 'UNK', 'PAD']),\n",
              " (['почему', 'например', 'китайский'], 'японский', ['UNK', 'PAD', 'PAD']),\n",
              " (['например', 'китайский', 'японский'], 'UNK', ['PAD', 'PAD', 'PAD'])]"
            ]
          },
          "metadata": {
            "tags": []
          },
          "execution_count": 8
        }
      ]
    },
    {
      "cell_type": "code",
      "metadata": {
        "id": "fkBzM6Zy9tZT"
      },
      "source": [
        "splits = cbow_split(sample_text, window=2)"
      ],
      "execution_count": 9,
      "outputs": []
    },
    {
      "cell_type": "code",
      "metadata": {
        "id": "6M1OZmFW9tZX",
        "outputId": "fc2af3f0-e6e4-45f5-bd71-4b93d7a2baae",
        "colab": {
          "base_uri": "https://localhost:8080/"
        }
      },
      "source": [
        "for sample in splits:\n",
        "    print('Левый контекст:', sample[0])\n",
        "    print('Центральное слово:', sample[1])\n",
        "    print('Правый контекст:', sample[2], end='\\n\\n')"
      ],
      "execution_count": 10,
      "outputs": [
        {
          "output_type": "stream",
          "text": [
            "Левый контекст: ['PAD', 'PAD']\n",
            "Центральное слово: вопрос\n",
            "Правый контекст: ['почему', 'например']\n",
            "\n",
            "Левый контекст: ['PAD', 'вопрос']\n",
            "Центральное слово: почему\n",
            "Правый контекст: ['например', 'китайский']\n",
            "\n",
            "Левый контекст: ['вопрос', 'почему']\n",
            "Центральное слово: например\n",
            "Правый контекст: ['китайский', 'японский']\n",
            "\n",
            "Левый контекст: ['почему', 'например']\n",
            "Центральное слово: китайский\n",
            "Правый контекст: ['японский', 'UNK']\n",
            "\n",
            "Левый контекст: ['например', 'китайский']\n",
            "Центральное слово: японский\n",
            "Правый контекст: ['UNK', 'PAD']\n",
            "\n",
            "Левый контекст: ['китайский', 'японский']\n",
            "Центральное слово: UNK\n",
            "Правый контекст: ['PAD', 'PAD']\n",
            "\n"
          ],
          "name": "stdout"
        }
      ]
    },
    {
      "cell_type": "code",
      "metadata": {
        "id": "YwXrzOYt9tZb",
        "outputId": "36e7c2b6-a78a-4b77-feb5-9b402de19e56",
        "colab": {
          "base_uri": "https://localhost:8080/"
        }
      },
      "source": [
        "sample_text = ['вопрос', 'почему', 'например', 'китайский', 'японский','UNK']\n",
        "splits"
      ],
      "execution_count": 11,
      "outputs": [
        {
          "output_type": "execute_result",
          "data": {
            "text/plain": [
              "[(['PAD', 'PAD'], 'вопрос', ['почему', 'например']),\n",
              " (['PAD', 'вопрос'], 'почему', ['например', 'китайский']),\n",
              " (['вопрос', 'почему'], 'например', ['китайский', 'японский']),\n",
              " (['почему', 'например'], 'китайский', ['японский', 'UNK']),\n",
              " (['например', 'китайский'], 'японский', ['UNK', 'PAD']),\n",
              " (['китайский', 'японский'], 'UNK', ['PAD', 'PAD'])]"
            ]
          },
          "metadata": {
            "tags": []
          },
          "execution_count": 11
        }
      ]
    },
    {
      "cell_type": "markdown",
      "metadata": {
        "id": "BrpHhKsS9tZf"
      },
      "source": [
        "# Expected\n",
        "\n",
        "```python\n",
        "[(['PAD', 'PAD'], 'вопрос', ['почему', 'например']),\n",
        " (['PAD', 'вопрос'], 'почему', ['например', 'китайский']),\n",
        " (['вопрос', 'почему'], 'например', ['китайский', 'японский']),\n",
        " (['почему', 'например'], 'китайский', ['японский', 'UNK']),\n",
        " (['например', 'китайский'], 'японский', ['UNK', 'PAD']),\n",
        " (['китайский', 'японский'], 'UNK', ['PAD', 'PAD'])]\n",
        "```"
      ]
    },
    {
      "cell_type": "code",
      "metadata": {
        "id": "t7ajasTH9tZf",
        "outputId": "64bee8c5-f422-40e1-a33f-99b86f275b71",
        "colab": {
          "base_uri": "https://localhost:8080/"
        }
      },
      "source": [
        "cbow_split(sample_text, window=2)"
      ],
      "execution_count": 12,
      "outputs": [
        {
          "output_type": "execute_result",
          "data": {
            "text/plain": [
              "[(['PAD', 'PAD'], 'вопрос', ['почему', 'например']),\n",
              " (['PAD', 'вопрос'], 'почему', ['например', 'китайский']),\n",
              " (['вопрос', 'почему'], 'например', ['китайский', 'японский']),\n",
              " (['почему', 'например'], 'китайский', ['японский', 'UNK']),\n",
              " (['например', 'китайский'], 'японский', ['UNK', 'PAD']),\n",
              " (['китайский', 'японский'], 'UNK', ['PAD', 'PAD'])]"
            ]
          },
          "metadata": {
            "tags": []
          },
          "execution_count": 12
        }
      ]
    },
    {
      "cell_type": "markdown",
      "metadata": {
        "id": "jgYmOvyP9tZk"
      },
      "source": [
        "# Skipgram"
      ]
    },
    {
      "cell_type": "code",
      "metadata": {
        "id": "kHTr3EBZ9tZk",
        "outputId": "99376941-8211-4522-b793-1f7f845cdbb0",
        "colab": {
          "base_uri": "https://localhost:8080/",
          "height": 0
        }
      },
      "source": [
        "sample_text = ['вопрос', 'почему', 'например', 'китайский', 'японский','UNK']\n",
        "' '.join(sample_text)"
      ],
      "execution_count": 13,
      "outputs": [
        {
          "output_type": "execute_result",
          "data": {
            "application/vnd.google.colaboratory.intrinsic+json": {
              "type": "string"
            },
            "text/plain": [
              "'вопрос почему например китайский японский UNK'"
            ]
          },
          "metadata": {
            "tags": []
          },
          "execution_count": 13
        }
      ]
    },
    {
      "cell_type": "markdown",
      "metadata": {
        "id": "tX5SEPa09tZq"
      },
      "source": [
        "# Реализуйте разделение предложения на примеры методом Skipgram"
      ]
    },
    {
      "cell_type": "code",
      "metadata": {
        "id": "whpYolrCULrD",
        "outputId": "2f1821ad-e48c-4f5b-e2d2-ebcc4dd78684",
        "colab": {
          "base_uri": "https://localhost:8080/"
        }
      },
      "source": [
        "def skipgram_split(tokens, window):\n",
        "  splits = []\n",
        "  pad_token = 'PAD'\n",
        "  for x in range(window):\n",
        "    tokens.append(pad_token)\n",
        "    tokens.insert(0,pad_token)\n",
        "  for i, el in enumerate(tokens):\n",
        "    if el != 'PAD':\n",
        "      left = tokens[i-window:i+window+1][:window]\n",
        "      right = tokens[i-window:i+window+1][window+1:]\n",
        "      for i in range(len(left)):\n",
        "        if left[i] != 'PAD':\n",
        "          splits.append((left[i],el))\n",
        "      for i in range(len(right)):\n",
        "        if right[i] != 'PAD':\n",
        "          splits.append((right[i],el))\n",
        "    \n",
        "  return splits\n",
        "\n",
        "skipgram_split(sample_text, window=2)"
      ],
      "execution_count": 14,
      "outputs": [
        {
          "output_type": "execute_result",
          "data": {
            "text/plain": [
              "[('почему', 'вопрос'),\n",
              " ('например', 'вопрос'),\n",
              " ('вопрос', 'почему'),\n",
              " ('например', 'почему'),\n",
              " ('китайский', 'почему'),\n",
              " ('вопрос', 'например'),\n",
              " ('почему', 'например'),\n",
              " ('китайский', 'например'),\n",
              " ('японский', 'например'),\n",
              " ('почему', 'китайский'),\n",
              " ('например', 'китайский'),\n",
              " ('японский', 'китайский'),\n",
              " ('UNK', 'китайский'),\n",
              " ('например', 'японский'),\n",
              " ('китайский', 'японский'),\n",
              " ('UNK', 'японский'),\n",
              " ('китайский', 'UNK'),\n",
              " ('японский', 'UNK')]"
            ]
          },
          "metadata": {
            "tags": []
          },
          "execution_count": 14
        }
      ]
    },
    {
      "cell_type": "code",
      "metadata": {
        "id": "5f8kAGg79tZy"
      },
      "source": [
        "splits = skipgram_split(sample_text, window=2)"
      ],
      "execution_count": 15,
      "outputs": []
    },
    {
      "cell_type": "code",
      "metadata": {
        "id": "-eQN8i5C9taA",
        "outputId": "a94a1721-82e1-4c3b-c0f1-39ffd6b5e033",
        "colab": {
          "base_uri": "https://localhost:8080/"
        }
      },
      "source": [
        "for sample in splits:\n",
        "    print('Контекст:', sample[0])\n",
        "    print('Центральное слово:', sample[1], end='\\n\\n')"
      ],
      "execution_count": 16,
      "outputs": [
        {
          "output_type": "stream",
          "text": [
            "Контекст: почему\n",
            "Центральное слово: вопрос\n",
            "\n",
            "Контекст: например\n",
            "Центральное слово: вопрос\n",
            "\n",
            "Контекст: вопрос\n",
            "Центральное слово: почему\n",
            "\n",
            "Контекст: например\n",
            "Центральное слово: почему\n",
            "\n",
            "Контекст: китайский\n",
            "Центральное слово: почему\n",
            "\n",
            "Контекст: вопрос\n",
            "Центральное слово: например\n",
            "\n",
            "Контекст: почему\n",
            "Центральное слово: например\n",
            "\n",
            "Контекст: китайский\n",
            "Центральное слово: например\n",
            "\n",
            "Контекст: японский\n",
            "Центральное слово: например\n",
            "\n",
            "Контекст: почему\n",
            "Центральное слово: китайский\n",
            "\n",
            "Контекст: например\n",
            "Центральное слово: китайский\n",
            "\n",
            "Контекст: японский\n",
            "Центральное слово: китайский\n",
            "\n",
            "Контекст: UNK\n",
            "Центральное слово: китайский\n",
            "\n",
            "Контекст: например\n",
            "Центральное слово: японский\n",
            "\n",
            "Контекст: китайский\n",
            "Центральное слово: японский\n",
            "\n",
            "Контекст: UNK\n",
            "Центральное слово: японский\n",
            "\n",
            "Контекст: китайский\n",
            "Центральное слово: UNK\n",
            "\n",
            "Контекст: японский\n",
            "Центральное слово: UNK\n",
            "\n"
          ],
          "name": "stdout"
        }
      ]
    },
    {
      "cell_type": "code",
      "metadata": {
        "id": "KTGfoPBx9taH",
        "outputId": "83150d39-8ebc-4f38-fafc-fe19179de763",
        "colab": {
          "base_uri": "https://localhost:8080/"
        }
      },
      "source": [
        "skipgram_split(sample_text, window=2)\n",
        "# вопрос почему например китайский японский UNK"
      ],
      "execution_count": 17,
      "outputs": [
        {
          "output_type": "execute_result",
          "data": {
            "text/plain": [
              "[('почему', 'вопрос'),\n",
              " ('например', 'вопрос'),\n",
              " ('вопрос', 'почему'),\n",
              " ('например', 'почему'),\n",
              " ('китайский', 'почему'),\n",
              " ('вопрос', 'например'),\n",
              " ('почему', 'например'),\n",
              " ('китайский', 'например'),\n",
              " ('японский', 'например'),\n",
              " ('почему', 'китайский'),\n",
              " ('например', 'китайский'),\n",
              " ('японский', 'китайский'),\n",
              " ('UNK', 'китайский'),\n",
              " ('например', 'японский'),\n",
              " ('китайский', 'японский'),\n",
              " ('UNK', 'японский'),\n",
              " ('китайский', 'UNK'),\n",
              " ('японский', 'UNK')]"
            ]
          },
          "metadata": {
            "tags": []
          },
          "execution_count": 17
        }
      ]
    },
    {
      "cell_type": "markdown",
      "metadata": {
        "id": "yH4JMxGa9taP"
      },
      "source": [
        "# Expected\n",
        "\n",
        "```python\n",
        "[('почему', 'вопрос'),\n",
        " ('например', 'вопрос'),\n",
        " ('вопрос', 'почему'),\n",
        " ('например', 'почему'),\n",
        " ('китайский', 'почему'),\n",
        " ('вопрос', 'например'),\n",
        " ('почему', 'например'),\n",
        " ('китайский', 'например'),\n",
        " ('японский', 'например'),\n",
        " ('почему', 'китайский'),\n",
        " ('например', 'китайский'),\n",
        " ('японский', 'китайский'),\n",
        " ('UNK', 'китайский'),\n",
        " ('например', 'японский'),\n",
        " ('китайский', 'японский'),\n",
        " ('UNK', 'японский'),\n",
        " ('китайский', 'UNK'),\n",
        " ('японский', 'UNK')]\n",
        "```"
      ]
    },
    {
      "cell_type": "code",
      "metadata": {
        "id": "n69ENX9t9taQ",
        "outputId": "b7590824-f4f1-452d-af0b-08b2af23da7d",
        "colab": {
          "base_uri": "https://localhost:8080/"
        }
      },
      "source": [
        "skipgram_split(sample_text, window=2)"
      ],
      "execution_count": 18,
      "outputs": [
        {
          "output_type": "execute_result",
          "data": {
            "text/plain": [
              "[('почему', 'вопрос'),\n",
              " ('например', 'вопрос'),\n",
              " ('вопрос', 'почему'),\n",
              " ('например', 'почему'),\n",
              " ('китайский', 'почему'),\n",
              " ('вопрос', 'например'),\n",
              " ('почему', 'например'),\n",
              " ('китайский', 'например'),\n",
              " ('японский', 'например'),\n",
              " ('почему', 'китайский'),\n",
              " ('например', 'китайский'),\n",
              " ('японский', 'китайский'),\n",
              " ('UNK', 'китайский'),\n",
              " ('например', 'японский'),\n",
              " ('китайский', 'японский'),\n",
              " ('UNK', 'японский'),\n",
              " ('китайский', 'UNK'),\n",
              " ('японский', 'UNK')]"
            ]
          },
          "metadata": {
            "tags": []
          },
          "execution_count": 18
        }
      ]
    },
    {
      "cell_type": "markdown",
      "metadata": {
        "id": "s5nkHpQB9taX"
      },
      "source": [
        "# Expected\n",
        "\n",
        "```python\n",
        "[('почему', 'вопрос'),\n",
        " ('например', 'вопрос'),\n",
        " ('китайский', 'вопрос'),\n",
        " ('вопрос', 'почему'),\n",
        " ('например', 'почему'),\n",
        " ('китайский', 'почему'),\n",
        " ('японский', 'почему'),\n",
        " ('вопрос', 'например'),\n",
        " ('почему', 'например'),\n",
        " ('китайский', 'например'),\n",
        " ('японский', 'например'),\n",
        " ('UNK', 'например'),\n",
        " ('вопрос', 'китайский'),\n",
        " ('почему', 'китайский'),\n",
        " ('например', 'китайский'),\n",
        " ('японский', 'китайский'),\n",
        " ('UNK', 'китайский'),\n",
        " ('почему', 'японский'),\n",
        " ('например', 'японский'),\n",
        " ('китайский', 'японский'),\n",
        " ('UNK', 'японский'),\n",
        " ('например', 'UNK'),\n",
        " ('китайский', 'UNK'),\n",
        " ('японский', 'UNK')]\n",
        "```"
      ]
    },
    {
      "cell_type": "code",
      "metadata": {
        "id": "vgUv5XuV9taZ"
      },
      "source": [
        "word2index = {}\n",
        "\n",
        "for text in corpus:\n",
        "    for token in text:\n",
        "        if token not in word2index:\n",
        "            word2index[token] = len(word2index)"
      ],
      "execution_count": 19,
      "outputs": []
    },
    {
      "cell_type": "code",
      "metadata": {
        "id": "WE8KRGzI9tag",
        "outputId": "cfd3c509-df2a-4c9d-dadd-22201cadc0b2",
        "colab": {
          "base_uri": "https://localhost:8080/"
        }
      },
      "source": [
        "len(word2index)"
      ],
      "execution_count": 20,
      "outputs": [
        {
          "output_type": "execute_result",
          "data": {
            "text/plain": [
              "13076"
            ]
          },
          "metadata": {
            "tags": []
          },
          "execution_count": 20
        }
      ]
    },
    {
      "cell_type": "code",
      "metadata": {
        "id": "QLxSiORD9tan",
        "outputId": "548a797c-157a-475b-a684-694ce38b142f",
        "colab": {
          "base_uri": "https://localhost:8080/"
        }
      },
      "source": [
        "word2index['UNK']"
      ],
      "execution_count": 21,
      "outputs": [
        {
          "output_type": "execute_result",
          "data": {
            "text/plain": [
              "1"
            ]
          },
          "metadata": {
            "tags": []
          },
          "execution_count": 21
        }
      ]
    },
    {
      "cell_type": "code",
      "metadata": {
        "id": "eWZErgov9tau",
        "outputId": "655cad81-8d39-44cb-ba64-8e958cdb6149",
        "colab": {
          "base_uri": "https://localhost:8080/"
        }
      },
      "source": [
        "[word2index[tok] if tok in word2index else word2index['UNK'] for tok in 'мама мыть рама'.split()]"
      ],
      "execution_count": 22,
      "outputs": [
        {
          "output_type": "execute_result",
          "data": {
            "text/plain": [
              "[1282, 8436, 1]"
            ]
          },
          "metadata": {
            "tags": []
          },
          "execution_count": 22
        }
      ]
    },
    {
      "cell_type": "markdown",
      "metadata": {
        "id": "6k7Rw7OY9ta0"
      },
      "source": [
        "# Torch Dataset\n",
        "В торче есть очень удобная читалка данных"
      ]
    },
    {
      "cell_type": "code",
      "metadata": {
        "id": "qt6YEUZT9ta1"
      },
      "source": [
        "from torch.utils.data import Dataset, DataLoader"
      ],
      "execution_count": 23,
      "outputs": []
    },
    {
      "cell_type": "code",
      "metadata": {
        "id": "KxiWZTXG9ta7"
      },
      "source": [
        "# игрушечный датасет\n",
        "# 121535 примера, 4 фичи, 3 класса\n",
        "some_data_x = np.random.rand(121535, 4)\n",
        "some_data_y = np.random.randint(3, size=(121535,))"
      ],
      "execution_count": 24,
      "outputs": []
    },
    {
      "cell_type": "code",
      "metadata": {
        "id": "n8ZYyjen9tbC",
        "outputId": "ea2e90aa-1456-4ec4-a74b-b8e45b17611c",
        "colab": {
          "base_uri": "https://localhost:8080/"
        }
      },
      "source": [
        "# соверешенно игрушечный, просто цифры\n",
        "some_data_x[:10]"
      ],
      "execution_count": 25,
      "outputs": [
        {
          "output_type": "execute_result",
          "data": {
            "text/plain": [
              "array([[0.86463705, 0.64172794, 0.64570857, 0.27114967],\n",
              "       [0.58102963, 0.77923049, 0.1634956 , 0.86528638],\n",
              "       [0.85419499, 0.25138707, 0.88059311, 0.88769772],\n",
              "       [0.68750062, 0.74546381, 0.43921447, 0.69294927],\n",
              "       [0.49783134, 0.95678274, 0.58312294, 0.87369093],\n",
              "       [0.36311432, 0.11739966, 0.37309366, 0.08880338],\n",
              "       [0.00916148, 0.33008692, 0.95316225, 0.14555926],\n",
              "       [0.49166611, 0.50053205, 0.18071997, 0.2200469 ],\n",
              "       [0.13869419, 0.72027415, 0.4706064 , 0.13482726],\n",
              "       [0.02799885, 0.46981392, 0.0626329 , 0.20345803]])"
            ]
          },
          "metadata": {
            "tags": []
          },
          "execution_count": 25
        }
      ]
    },
    {
      "cell_type": "code",
      "metadata": {
        "id": "HnNM_kRx9tbI",
        "outputId": "d8e1c5eb-85b1-42a5-b901-c944b398fb76",
        "colab": {
          "base_uri": "https://localhost:8080/"
        }
      },
      "source": [
        "some_data_y"
      ],
      "execution_count": 26,
      "outputs": [
        {
          "output_type": "execute_result",
          "data": {
            "text/plain": [
              "array([2, 2, 2, ..., 1, 0, 0])"
            ]
          },
          "metadata": {
            "tags": []
          },
          "execution_count": 26
        }
      ]
    },
    {
      "cell_type": "code",
      "metadata": {
        "id": "mUSjZXrE9tbN"
      },
      "source": [
        "class ToyDataset(Dataset):\n",
        "    \n",
        "    def __init__(self, data_x, data_y):\n",
        "        \n",
        "        super().__init__()\n",
        "        \n",
        "        self.data_x = data_x\n",
        "        self.data_y = data_y\n",
        "        \n",
        "    def __len__(self):\n",
        "        \n",
        "        # Нужно обязательно определить эту функцию\n",
        "        # Должна возвращать размер датасета\n",
        "        \n",
        "        return len(self.data_x)\n",
        "    \n",
        "    def __getitem__(self, idx):\n",
        "        \n",
        "        # Еще нужно определить этот метод\n",
        "        # То есть как мы будем доставать наши данные по индексу\n",
        "        \n",
        "        return self.data_x[idx], self.data_y[idx]"
      ],
      "execution_count": 27,
      "outputs": []
    },
    {
      "cell_type": "code",
      "metadata": {
        "id": "YCqMn3bRmEzL"
      },
      "source": [
        "# toy  = ToyDataset(some_data_x, some_data_y)\n",
        "# toy.__getitem__(0)"
      ],
      "execution_count": 28,
      "outputs": []
    },
    {
      "cell_type": "code",
      "metadata": {
        "id": "3jLqnzgy9tbU"
      },
      "source": [
        "some_dataset = ToyDataset(some_data_x, some_data_y)"
      ],
      "execution_count": 29,
      "outputs": []
    },
    {
      "cell_type": "code",
      "metadata": {
        "id": "nSetioDg9tbZ",
        "outputId": "b3fd9097-6377-4e07-f929-535d9ec31534",
        "colab": {
          "base_uri": "https://localhost:8080/"
        }
      },
      "source": [
        "some_dataset[5], some_dataset[467]"
      ],
      "execution_count": 30,
      "outputs": [
        {
          "output_type": "execute_result",
          "data": {
            "text/plain": [
              "((array([0.36311432, 0.11739966, 0.37309366, 0.08880338]), 2),\n",
              " (array([0.61717943, 0.37333475, 0.86009648, 0.58172363]), 1))"
            ]
          },
          "metadata": {
            "tags": []
          },
          "execution_count": 30
        }
      ]
    },
    {
      "cell_type": "code",
      "metadata": {
        "id": "6FfTRCwXWS-j",
        "outputId": "335e598f-f15d-4b64-e0d1-53f3b0d72609",
        "colab": {
          "base_uri": "https://localhost:8080/"
        }
      },
      "source": [
        "some_dataset[:5]"
      ],
      "execution_count": 31,
      "outputs": [
        {
          "output_type": "execute_result",
          "data": {
            "text/plain": [
              "(array([[0.86463705, 0.64172794, 0.64570857, 0.27114967],\n",
              "        [0.58102963, 0.77923049, 0.1634956 , 0.86528638],\n",
              "        [0.85419499, 0.25138707, 0.88059311, 0.88769772],\n",
              "        [0.68750062, 0.74546381, 0.43921447, 0.69294927],\n",
              "        [0.49783134, 0.95678274, 0.58312294, 0.87369093]]),\n",
              " array([2, 2, 2, 1, 0]))"
            ]
          },
          "metadata": {
            "tags": []
          },
          "execution_count": 31
        }
      ]
    },
    {
      "cell_type": "code",
      "metadata": {
        "id": "icZ31Asu9tbf"
      },
      "source": [
        "some_loader = DataLoader(some_dataset, batch_size=16, shuffle=True)"
      ],
      "execution_count": 32,
      "outputs": []
    },
    {
      "cell_type": "code",
      "metadata": {
        "id": "xPse6A0vnAks",
        "outputId": "20a7a080-2bdc-4320-d4e8-257c7b7a3527",
        "colab": {
          "base_uri": "https://localhost:8080/"
        }
      },
      "source": [
        "len(some_data_x), len(some_loader),  len(some_loader)*16"
      ],
      "execution_count": 33,
      "outputs": [
        {
          "output_type": "execute_result",
          "data": {
            "text/plain": [
              "(121535, 7596, 121536)"
            ]
          },
          "metadata": {
            "tags": []
          },
          "execution_count": 33
        }
      ]
    },
    {
      "cell_type": "code",
      "metadata": {
        "id": "THYrZN8I9tbl",
        "outputId": "6d66d231-fb34-46ff-94c5-4acde706e9e5",
        "colab": {
          "base_uri": "https://localhost:8080/"
        }
      },
      "source": [
        "for x, y in some_loader:\n",
        "  break\n",
        "\n",
        "len(x), x, y, x.shape"
      ],
      "execution_count": 34,
      "outputs": [
        {
          "output_type": "execute_result",
          "data": {
            "text/plain": [
              "(16, tensor([[6.5002e-01, 7.2683e-02, 5.5959e-02, 5.1590e-01],\n",
              "         [4.8484e-01, 4.1126e-02, 9.1678e-01, 7.9149e-01],\n",
              "         [5.8766e-01, 6.1441e-01, 3.4031e-01, 1.4294e-01],\n",
              "         [1.6171e-02, 3.2053e-01, 1.0874e-01, 8.8088e-01],\n",
              "         [7.9151e-01, 5.8016e-01, 4.9384e-01, 1.5141e-03],\n",
              "         [4.5137e-01, 1.4904e-01, 8.7224e-01, 4.0604e-01],\n",
              "         [7.6573e-01, 5.8132e-01, 3.2069e-01, 5.4537e-01],\n",
              "         [3.7596e-01, 1.4456e-02, 4.1484e-01, 3.9124e-01],\n",
              "         [2.0468e-01, 7.8728e-01, 8.8545e-01, 8.9321e-01],\n",
              "         [2.6639e-01, 3.7875e-01, 1.6727e-01, 3.1827e-04],\n",
              "         [1.3561e-01, 3.0028e-01, 7.6029e-02, 9.8251e-01],\n",
              "         [2.0485e-01, 6.9552e-01, 7.6592e-01, 1.8992e-01],\n",
              "         [5.0642e-02, 1.6965e-01, 2.3013e-01, 9.2979e-01],\n",
              "         [9.6663e-01, 3.4516e-01, 9.0548e-01, 6.5330e-01],\n",
              "         [9.3500e-01, 5.9615e-01, 3.4538e-01, 8.0183e-01],\n",
              "         [3.8843e-02, 2.8867e-01, 4.2350e-02, 2.6275e-01]], dtype=torch.float64), tensor([0, 0, 1, 1, 1, 1, 0, 2, 2, 0, 1, 1, 0, 0, 2, 0]), torch.Size([16, 4]))"
            ]
          },
          "metadata": {
            "tags": []
          },
          "execution_count": 34
        }
      ]
    },
    {
      "cell_type": "code",
      "metadata": {
        "id": "saXiH77N9tbo",
        "outputId": "9f8e7447-1c1c-4f59-fc17-e1c354044555",
        "colab": {
          "base_uri": "https://localhost:8080/"
        }
      },
      "source": [
        "for x, y in some_loader:\n",
        "    pass\n",
        "\n",
        "x.shape"
      ],
      "execution_count": 35,
      "outputs": [
        {
          "output_type": "execute_result",
          "data": {
            "text/plain": [
              "torch.Size([15, 4])"
            ]
          },
          "metadata": {
            "tags": []
          },
          "execution_count": 35
        }
      ]
    },
    {
      "cell_type": "code",
      "metadata": {
        "id": "YjWFSEZ99tbr",
        "outputId": "e421c48c-522c-4f30-ad5f-02e8f6e19724",
        "colab": {
          "base_uri": "https://localhost:8080/"
        }
      },
      "source": [
        "# почему 15?\n",
        "# потому что количество наших данных нацело не делится на 16\n",
        "# и поэтому последний батч меньше 16-ти\n",
        "len(some_dataset) % 16"
      ],
      "execution_count": 36,
      "outputs": [
        {
          "output_type": "execute_result",
          "data": {
            "text/plain": [
              "15"
            ]
          },
          "metadata": {
            "tags": []
          },
          "execution_count": 36
        }
      ]
    },
    {
      "cell_type": "markdown",
      "metadata": {
        "id": "O1ErrZB-9tbu"
      },
      "source": [
        "# А зачем?"
      ]
    },
    {
      "cell_type": "code",
      "metadata": {
        "id": "GquTi6Lw9tbv"
      },
      "source": [
        "class ToyDataset(Dataset):\n",
        "    \n",
        "    def __init__(self, data_x, data_y):\n",
        "        \n",
        "        super().__init__()\n",
        "        \n",
        "        self.data_x = data_x\n",
        "        self.data_y = data_y\n",
        "        \n",
        "    def __len__(self):\n",
        "        \n",
        "        # Нужно обязательно определить эту функцию\n",
        "        # Должна возвращать размер датасета\n",
        "        \n",
        "        return len(self.data_x)\n",
        "    \n",
        "    @staticmethod\n",
        "    def add_pow_features(x, n=2):\n",
        "        \n",
        "        return np.concatenate([x, x ** n]) \n",
        "    \n",
        "    @staticmethod\n",
        "    def add_log_features(x):\n",
        "        \n",
        "        return np.concatenate([x, np.log(x)]) \n",
        "    \n",
        "    def __getitem__(self, idx):\n",
        "        \n",
        "        # Еще нужно определить этот метод\n",
        "        # То есть как мы будем доставать наши данные по индексу\n",
        "        \n",
        "        x = self.data_x[idx]\n",
        "        \n",
        "        # внутри датасета мы можем делать все что угодно с нашими данными\n",
        "        # например выше определим функции, которые добавляют степенные фичи\n",
        "        x = self.add_pow_features(x, n=2)\n",
        "        x = self.add_pow_features(x, n=3)\n",
        "        # и еще возьмем логарифмические фичи\n",
        "        x = self.add_log_features(x)\n",
        "        \n",
        "        y = self.data_y[idx]\n",
        "        \n",
        "        return x, y"
      ],
      "execution_count": 37,
      "outputs": []
    },
    {
      "cell_type": "code",
      "metadata": {
        "id": "Hp9uCqZbpg-n"
      },
      "source": [
        "# x = some_data_x[:2]\n",
        "# np.concatenate([x, np.log(x)])"
      ],
      "execution_count": 38,
      "outputs": []
    },
    {
      "cell_type": "code",
      "metadata": {
        "id": "ny0Ln8FwovSj"
      },
      "source": [
        "# toy_test = ToyDataset(some_data_x,some_data_y)\n",
        "# print(some_data_x.shape)\n",
        "# toy_test.add_log_features(some_data_x).shape"
      ],
      "execution_count": 39,
      "outputs": []
    },
    {
      "cell_type": "code",
      "metadata": {
        "id": "ouqErqfz9tby"
      },
      "source": [
        "toy_dataset = ToyDataset(some_data_x, some_data_y)\n",
        "# print(len(toy_dataset))\n",
        "# toy_dataset.__getitem__(0)"
      ],
      "execution_count": 40,
      "outputs": []
    },
    {
      "cell_type": "code",
      "metadata": {
        "id": "t9KS4zMg9tb3"
      },
      "source": [
        "toy_loader = DataLoader(dataset=toy_dataset, batch_size=128)"
      ],
      "execution_count": 41,
      "outputs": []
    },
    {
      "cell_type": "code",
      "metadata": {
        "id": "ziamF7hmnwgR",
        "outputId": "96572b1c-f71b-4880-96f3-0f65be7ddc06",
        "colab": {
          "base_uri": "https://localhost:8080/"
        }
      },
      "source": [
        "len(toy_loader), len(toy_loader) * 128"
      ],
      "execution_count": 42,
      "outputs": [
        {
          "output_type": "execute_result",
          "data": {
            "text/plain": [
              "(950, 121600)"
            ]
          },
          "metadata": {
            "tags": []
          },
          "execution_count": 42
        }
      ]
    },
    {
      "cell_type": "code",
      "metadata": {
        "id": "akTZTc1L9tb7"
      },
      "source": [
        "for x, y in toy_loader:\n",
        "    break"
      ],
      "execution_count": 43,
      "outputs": []
    },
    {
      "cell_type": "code",
      "metadata": {
        "id": "a2cw3fSn9tcC",
        "outputId": "4813a92d-fd2f-4392-fc03-b994e0934a5a",
        "colab": {
          "base_uri": "https://localhost:8080/"
        }
      },
      "source": [
        "x.shape"
      ],
      "execution_count": 44,
      "outputs": [
        {
          "output_type": "execute_result",
          "data": {
            "text/plain": [
              "torch.Size([128, 32])"
            ]
          },
          "metadata": {
            "tags": []
          },
          "execution_count": 44
        }
      ]
    },
    {
      "cell_type": "code",
      "metadata": {
        "id": "oSs7H7599tcF",
        "outputId": "a5cda7b7-6365-495f-ba13-79322fa914c7",
        "colab": {
          "base_uri": "https://localhost:8080/"
        }
      },
      "source": [
        "# заметим, что мы сразу получаем торчовый формат данных\n",
        "x"
      ],
      "execution_count": 45,
      "outputs": [
        {
          "output_type": "execute_result",
          "data": {
            "text/plain": [
              "tensor([[  0.8646,   0.6417,   0.6457,  ...,  -2.6615,  -2.6244,  -7.8305],\n",
              "        [  0.5810,   0.7792,   0.1635,  ...,  -1.4967, -10.8658,  -0.8682],\n",
              "        [  0.8542,   0.2514,   0.8806,  ...,  -8.2846,  -0.7630,  -0.7147],\n",
              "        ...,\n",
              "        [  0.6741,   0.4225,   0.0786,  ...,  -5.1694, -15.2610,  -0.5862],\n",
              "        [  0.9234,   0.8394,   0.4239,  ...,  -1.0505,  -5.1491,  -3.7043],\n",
              "        [  0.9708,   0.8530,   0.5735,  ...,  -0.9543,  -3.3359,  -2.4403]],\n",
              "       dtype=torch.float64)"
            ]
          },
          "metadata": {
            "tags": []
          },
          "execution_count": 45
        }
      ]
    },
    {
      "cell_type": "code",
      "metadata": {
        "id": "3kPjNzv-9tcI",
        "outputId": "d0de1269-1e4e-460b-ef73-1bc89dce98b0",
        "colab": {
          "base_uri": "https://localhost:8080/"
        }
      },
      "source": [
        "y"
      ],
      "execution_count": 46,
      "outputs": [
        {
          "output_type": "execute_result",
          "data": {
            "text/plain": [
              "tensor([2, 2, 2, 1, 0, 2, 1, 0, 0, 0, 0, 0, 1, 2, 0, 1, 2, 1, 0, 1, 0, 0, 2, 1,\n",
              "        2, 1, 1, 0, 2, 1, 1, 2, 2, 2, 0, 2, 1, 1, 1, 1, 0, 2, 0, 0, 1, 0, 1, 0,\n",
              "        2, 0, 1, 2, 1, 0, 2, 1, 1, 2, 2, 1, 2, 0, 0, 0, 2, 0, 1, 2, 0, 2, 0, 2,\n",
              "        1, 0, 1, 1, 1, 2, 1, 0, 1, 1, 1, 0, 2, 2, 1, 0, 0, 0, 2, 1, 1, 1, 2, 2,\n",
              "        1, 1, 1, 1, 1, 2, 2, 1, 0, 2, 2, 2, 1, 2, 0, 2, 1, 0, 2, 1, 0, 2, 2, 0,\n",
              "        2, 0, 1, 2, 1, 0, 0, 1])"
            ]
          },
          "metadata": {
            "tags": []
          },
          "execution_count": 46
        }
      ]
    },
    {
      "cell_type": "markdown",
      "metadata": {
        "id": "nYdqNvKK9tcM"
      },
      "source": [
        "# Если вы ничего здесь не понимаете, то вернитесь в конец первой домашки, там все объясняется"
      ]
    },
    {
      "cell_type": "code",
      "metadata": {
        "id": "g_6g-TGP9tcM"
      },
      "source": [
        "model = torch.nn.Sequential(torch.nn.Linear(32, 16),\n",
        "                            torch.nn.ReLU(),\n",
        "                            torch.nn.Linear(16, 8),\n",
        "                            torch.nn.ReLU(),\n",
        "                            torch.nn.Linear(8, 3))\n",
        "\n",
        "criterion = torch.nn.CrossEntropyLoss()"
      ],
      "execution_count": 47,
      "outputs": []
    },
    {
      "cell_type": "code",
      "metadata": {
        "id": "8Gr6p9yz9tcR",
        "outputId": "0624bc45-6f64-4d64-f040-a99090143875",
        "colab": {
          "base_uri": "https://localhost:8080/"
        }
      },
      "source": [
        "with torch.no_grad():\n",
        "\n",
        "    prediction = model(x.float())\n",
        "\n",
        "    loss = criterion(prediction, y)\n",
        "    \n",
        "loss.item()"
      ],
      "execution_count": 48,
      "outputs": [
        {
          "output_type": "execute_result",
          "data": {
            "text/plain": [
              "1.1527106761932373"
            ]
          },
          "metadata": {
            "tags": []
          },
          "execution_count": 48
        }
      ]
    },
    {
      "cell_type": "markdown",
      "metadata": {
        "id": "_U06zHbZ9tcU"
      },
      "source": [
        "# Боевые датасеты"
      ]
    },
    {
      "cell_type": "code",
      "metadata": {
        "id": "FHjNHuDaylRj",
        "outputId": "54be87a3-0919-4787-934b-5d7d37a7a9d0",
        "colab": {
          "base_uri": "https://localhost:8080/"
        }
      },
      "source": [
        "len(corpus), corpus[:3]"
      ],
      "execution_count": 49,
      "outputs": [
        {
          "output_type": "execute_result",
          "data": {
            "text/plain": [
              "(100000,\n",
              " [['второй',\n",
              "   'UNK',\n",
              "   'год',\n",
              "   'окончательно',\n",
              "   'разочаровать',\n",
              "   'решить',\n",
              "   'податься',\n",
              "   'альфабанк'],\n",
              "  ['вернуть',\n",
              "   'денежный',\n",
              "   'средство',\n",
              "   'лицевой',\n",
              "   'счёт',\n",
              "   'либо',\n",
              "   'зачесть',\n",
              "   'счёт',\n",
              "   'погашение',\n",
              "   'кредит'],\n",
              "  ['притом',\n",
              "   'ситуация',\n",
              "   'решиться',\n",
              "   'участие',\n",
              "   'течение',\n",
              "   'сутки',\n",
              "   'заявить']])"
            ]
          },
          "metadata": {
            "tags": []
          },
          "execution_count": 49
        }
      ]
    },
    {
      "cell_type": "code",
      "metadata": {
        "id": "Zql3ZG0f9tcU",
        "outputId": "279b00f9-575c-4028-d835-d42419b09ec1",
        "colab": {
          "base_uri": "https://localhost:8080/"
        }
      },
      "source": [
        "class CBOWDataset(Dataset):\n",
        "\n",
        "    def __init__(self,\n",
        "                 corpus,\n",
        "                 word2index,\n",
        "                 window=2,\n",
        "                 unk_token='UNK',\n",
        "                 pad_token='PAD',\n",
        "                 collect_verbose=True):\n",
        "\n",
        "        self.corpus = corpus\n",
        "        self.word2index = word2index\n",
        "        self.index2word = {value: key for key, value in self.word2index.items()}\n",
        "        self.window = window\n",
        "\n",
        "        self.unk_token = unk_token\n",
        "        self.unk_index = self.word2index[self.unk_token]\n",
        "\n",
        "        self.pad_token = pad_token\n",
        "        self.pad_index = len(self.word2index)\n",
        "\n",
        "        self.collect_verbose = collect_verbose\n",
        "\n",
        "        self.data = []\n",
        "\n",
        "        self.collect_data()\n",
        "\n",
        "    def __len__(self):\n",
        "\n",
        "        return len(self.data)\n",
        "\n",
        "    def _split_function(self, tokenized_text):\n",
        "\n",
        "        splits = []\n",
        "\n",
        "        for n in range(len(tokenized_text)):\n",
        "            left_context = tokenized_text[np.maximum(n - self.window, 0):n]\n",
        "            left_context = ([self.pad_index] * (self.window - len(left_context))) + left_context\n",
        "\n",
        "            central_word = tokenized_text[n]\n",
        "\n",
        "            right_context = tokenized_text[n + 1:n + self.window + 1]\n",
        "            right_context = right_context + ([self.pad_index] * (self.window - len(right_context)))\n",
        "\n",
        "            splits.append((left_context + right_context, central_word))\n",
        "\n",
        "        return splits\n",
        "\n",
        "    def indexing(self, tokenized_text):\n",
        "\n",
        "        return [self.word2index[token] if token in self.word2index else self.unk_index for token in tokenized_text]\n",
        "\n",
        "    def collect_data(self):\n",
        "\n",
        "        corpus = tqdm(self.corpus, disable=not self.collect_verbose)\n",
        "\n",
        "        for tokenized_text in corpus:\n",
        "            indexed_text = self.indexing(tokenized_text)\n",
        "            cbow_examples = self._split_function(indexed_text)\n",
        "\n",
        "            self.data.extend(cbow_examples)\n",
        "\n",
        "    def __getitem__(self, idx):\n",
        "\n",
        "        context, central_word = self.data[idx]\n",
        "\n",
        "        context = torch.Tensor(context).long()\n",
        "\n",
        "        return context, central_word\n",
        "\n",
        "\n",
        "test_cbow = CBOWDataset(corpus, word2index)\n",
        "test_cbow"
      ],
      "execution_count": 50,
      "outputs": [
        {
          "output_type": "stream",
          "text": [
            "100%|██████████| 100000/100000 [00:03<00:00, 25130.51it/s]\n"
          ],
          "name": "stderr"
        },
        {
          "output_type": "execute_result",
          "data": {
            "text/plain": [
              "<__main__.CBOWDataset at 0x7faacb89bac8>"
            ]
          },
          "metadata": {
            "tags": []
          },
          "execution_count": 50
        }
      ]
    },
    {
      "cell_type": "code",
      "metadata": {
        "id": "jpldvT6myyAv",
        "outputId": "06f19ce0-a25f-4b26-82bd-973ba332527c",
        "colab": {
          "base_uri": "https://localhost:8080/"
        }
      },
      "source": [
        "print(corpus[0],'\\n')\n",
        "test_cbow._split_function(corpus[0])"
      ],
      "execution_count": 51,
      "outputs": [
        {
          "output_type": "stream",
          "text": [
            "['второй', 'UNK', 'год', 'окончательно', 'разочаровать', 'решить', 'податься', 'альфабанк'] \n",
            "\n"
          ],
          "name": "stdout"
        },
        {
          "output_type": "execute_result",
          "data": {
            "text/plain": [
              "[([13076, 13076, 'UNK', 'год'], 'второй'),\n",
              " ([13076, 'второй', 'год', 'окончательно'], 'UNK'),\n",
              " (['второй', 'UNK', 'окончательно', 'разочаровать'], 'год'),\n",
              " (['UNK', 'год', 'разочаровать', 'решить'], 'окончательно'),\n",
              " (['год', 'окончательно', 'решить', 'податься'], 'разочаровать'),\n",
              " (['окончательно', 'разочаровать', 'податься', 'альфабанк'], 'решить'),\n",
              " (['разочаровать', 'решить', 'альфабанк', 13076], 'податься'),\n",
              " (['решить', 'податься', 13076, 13076], 'альфабанк')]"
            ]
          },
          "metadata": {
            "tags": []
          },
          "execution_count": 51
        }
      ]
    },
    {
      "cell_type": "code",
      "metadata": {
        "id": "ktvagvOA0sFO",
        "outputId": "98d609e9-fe54-4952-a63d-ff499641e814",
        "colab": {
          "base_uri": "https://localhost:8080/"
        }
      },
      "source": [
        "test_cbow.indexing(corpus[0])"
      ],
      "execution_count": 52,
      "outputs": [
        {
          "output_type": "execute_result",
          "data": {
            "text/plain": [
              "[0, 1, 2, 3, 4, 5, 6, 7]"
            ]
          },
          "metadata": {
            "tags": []
          },
          "execution_count": 52
        }
      ]
    },
    {
      "cell_type": "code",
      "metadata": {
        "id": "0Hwlpvvs1Un_",
        "outputId": "ae0fea35-fabb-41c3-b23f-e7176b7225d9",
        "colab": {
          "base_uri": "https://localhost:8080/"
        }
      },
      "source": [
        "indexed_text = test_cbow.indexing(corpus[0])\n",
        "cbow_examples = test_cbow._split_function(indexed_text)\n",
        "cbow_examples "
      ],
      "execution_count": 53,
      "outputs": [
        {
          "output_type": "execute_result",
          "data": {
            "text/plain": [
              "[([13076, 13076, 1, 2], 0),\n",
              " ([13076, 0, 2, 3], 1),\n",
              " ([0, 1, 3, 4], 2),\n",
              " ([1, 2, 4, 5], 3),\n",
              " ([2, 3, 5, 6], 4),\n",
              " ([3, 4, 6, 7], 5),\n",
              " ([4, 5, 7, 13076], 6),\n",
              " ([5, 6, 13076, 13076], 7)]"
            ]
          },
          "metadata": {
            "tags": []
          },
          "execution_count": 53
        }
      ]
    },
    {
      "cell_type": "code",
      "metadata": {
        "id": "nQzkPaV61BYt",
        "outputId": "614a7108-3061-40d6-a1c5-f81280c136e3",
        "colab": {
          "base_uri": "https://localhost:8080/"
        }
      },
      "source": [
        "test_cbow.data[16]"
      ],
      "execution_count": 54,
      "outputs": [
        {
          "output_type": "execute_result",
          "data": {
            "text/plain": [
              "([14, 12, 16, 13076], 15)"
            ]
          },
          "metadata": {
            "tags": []
          },
          "execution_count": 54
        }
      ]
    },
    {
      "cell_type": "markdown",
      "metadata": {
        "id": "g34liKSA9tcX"
      },
      "source": [
        "# Мы будем учить модель Skipgram\n",
        "Реализуйте читалку данных"
      ]
    },
    {
      "cell_type": "code",
      "metadata": {
        "id": "n0vHupjk9tcY"
      },
      "source": [
        "class SkipgramDataset(Dataset):\n",
        "\n",
        "    def __init__(self,\n",
        "                 corpus,\n",
        "                 word2index,\n",
        "                 window=2,\n",
        "                 unk_token='UNK',\n",
        "                 collect_verbose=True):\n",
        "\n",
        "        self.corpus = corpus\n",
        "        self.word2index = word2index\n",
        "        self.index2word = {value: key for key, value in self.word2index.items()}\n",
        "        self.window = window\n",
        "\n",
        "        self.unk_token = unk_token\n",
        "        self.unk_index = self.word2index[self.unk_token]\n",
        "\n",
        "        self.collect_verbose = collect_verbose\n",
        "\n",
        "        self.data = []\n",
        "\n",
        "        self.collect_data()\n",
        "\n",
        "\n",
        "    def __len__(self):\n",
        "\n",
        "        return len(self.data)\n",
        "\n",
        "    def _split_function(self, tokenized_text):\n",
        "\n",
        "        # CODE\n",
        "        # вставить здесь функцию, которые вы писали раньше\n",
        "\n",
        "        tokens = tokenized_text\n",
        "        window = self.window\n",
        "        splits = skipgram_split(tokens, window)\n",
        "\n",
        "        return splits\n",
        "\n",
        "    def indexing(self, tokenized_text):\n",
        "\n",
        "        return [self.word2index[token] if token in self.word2index else self.unk_index for token in tokenized_text]\n",
        "\n",
        "    def collect_data(self):\n",
        "\n",
        "        corpus = tqdm(self.corpus, disable=not self.collect_verbose)\n",
        "\n",
        "        for tokenized_text in corpus:\n",
        "            indexed_text = self.indexing(tokenized_text)\n",
        "            skipgram_examples = self._split_function(indexed_text)\n",
        "\n",
        "            self.data.extend(skipgram_examples)\n",
        "\n",
        "    def __getitem__(self, idx):\n",
        "      \n",
        "      context, central_word = self.data[idx]\n",
        "      \n",
        "      # CODE\n",
        "\n",
        "      return context, central_word"
      ],
      "execution_count": 55,
      "outputs": []
    },
    {
      "cell_type": "code",
      "metadata": {
        "id": "p8J-MlbBAO13",
        "outputId": "b26cec0c-ad2d-4a2a-d786-cd4c23d0ebe2",
        "colab": {
          "base_uri": "https://localhost:8080/"
        }
      },
      "source": [
        "test_skip = SkipgramDataset(corpus, word2index)"
      ],
      "execution_count": 56,
      "outputs": [
        {
          "output_type": "stream",
          "text": [
            "100%|██████████| 100000/100000 [00:02<00:00, 43228.61it/s]\n"
          ],
          "name": "stderr"
        }
      ]
    },
    {
      "cell_type": "code",
      "metadata": {
        "id": "txadt4d0ATfG",
        "outputId": "6d343b29-0199-4477-9cda-28b26b68114e",
        "colab": {
          "base_uri": "https://localhost:8080/"
        }
      },
      "source": [
        "test_skip._split_function(corpus[0])"
      ],
      "execution_count": 57,
      "outputs": [
        {
          "output_type": "execute_result",
          "data": {
            "text/plain": [
              "[('UNK', 'второй'),\n",
              " ('год', 'второй'),\n",
              " ('второй', 'UNK'),\n",
              " ('год', 'UNK'),\n",
              " ('окончательно', 'UNK'),\n",
              " ('второй', 'год'),\n",
              " ('UNK', 'год'),\n",
              " ('окончательно', 'год'),\n",
              " ('разочаровать', 'год'),\n",
              " ('UNK', 'окончательно'),\n",
              " ('год', 'окончательно'),\n",
              " ('разочаровать', 'окончательно'),\n",
              " ('решить', 'окончательно'),\n",
              " ('год', 'разочаровать'),\n",
              " ('окончательно', 'разочаровать'),\n",
              " ('решить', 'разочаровать'),\n",
              " ('податься', 'разочаровать'),\n",
              " ('окончательно', 'решить'),\n",
              " ('разочаровать', 'решить'),\n",
              " ('податься', 'решить'),\n",
              " ('альфабанк', 'решить'),\n",
              " ('разочаровать', 'податься'),\n",
              " ('решить', 'податься'),\n",
              " ('альфабанк', 'податься'),\n",
              " ('решить', 'альфабанк'),\n",
              " ('податься', 'альфабанк')]"
            ]
          },
          "metadata": {
            "tags": []
          },
          "execution_count": 57
        }
      ]
    },
    {
      "cell_type": "code",
      "metadata": {
        "id": "Bj24aoDLAgSV",
        "outputId": "4c32ff9e-dff3-448d-db4c-49d0ed82921b",
        "colab": {
          "base_uri": "https://localhost:8080/"
        }
      },
      "source": [
        "list(test_skip.data)[:10]"
      ],
      "execution_count": 58,
      "outputs": [
        {
          "output_type": "execute_result",
          "data": {
            "text/plain": [
              "[(1, 0),\n",
              " (2, 0),\n",
              " (0, 1),\n",
              " (2, 1),\n",
              " (3, 1),\n",
              " (0, 2),\n",
              " (1, 2),\n",
              " (3, 2),\n",
              " (4, 2),\n",
              " (1, 3)]"
            ]
          },
          "metadata": {
            "tags": []
          },
          "execution_count": 58
        }
      ]
    },
    {
      "cell_type": "code",
      "metadata": {
        "id": "4d1ly7oD9tcb"
      },
      "source": [
        "# можете положить SkipgramDataset в отдельный файлик, например word2vec_utils и относительным импортом достать его \n",
        "#from .word2vec_utils import SkipgramDataset"
      ],
      "execution_count": 59,
      "outputs": []
    },
    {
      "cell_type": "code",
      "metadata": {
        "scrolled": true,
        "id": "5_sHuumq9tce",
        "outputId": "b133f0c1-12cc-4b91-b155-598dff2d6daa",
        "colab": {
          "base_uri": "https://localhost:8080/"
        }
      },
      "source": [
        "dataset = SkipgramDataset(corpus, word2index)"
      ],
      "execution_count": 60,
      "outputs": [
        {
          "output_type": "stream",
          "text": [
            "100%|██████████| 100000/100000 [00:02<00:00, 42718.55it/s]\n"
          ],
          "name": "stderr"
        }
      ]
    },
    {
      "cell_type": "code",
      "metadata": {
        "id": "0mT-LOw79tch"
      },
      "source": [
        "BATCH_SIZE = 512"
      ],
      "execution_count": 61,
      "outputs": []
    },
    {
      "cell_type": "code",
      "metadata": {
        "id": "kXNGkh6-9tck"
      },
      "source": [
        "dataset_loader = DataLoader(dataset, shuffle=True, batch_size=BATCH_SIZE)"
      ],
      "execution_count": 62,
      "outputs": []
    },
    {
      "cell_type": "code",
      "metadata": {
        "id": "vQ0JoFxL9tcn"
      },
      "source": [
        "for x, y in dataset_loader:\n",
        "    break"
      ],
      "execution_count": 63,
      "outputs": []
    },
    {
      "cell_type": "code",
      "metadata": {
        "id": "1YcHoYT29tcr",
        "outputId": "52ae2833-f30e-4fae-ca54-17730d191db6",
        "colab": {
          "base_uri": "https://localhost:8080/"
        }
      },
      "source": [
        "x[:5]"
      ],
      "execution_count": 64,
      "outputs": [
        {
          "output_type": "execute_result",
          "data": {
            "text/plain": [
              "tensor([ 233, 2909,  381, 2647,   59])"
            ]
          },
          "metadata": {
            "tags": []
          },
          "execution_count": 64
        }
      ]
    },
    {
      "cell_type": "code",
      "metadata": {
        "id": "mNjGGovB9tcv",
        "outputId": "f39e8206-48d9-4202-ccd2-dcfd7f9ad27d",
        "colab": {
          "base_uri": "https://localhost:8080/"
        }
      },
      "source": [
        "y[:5]"
      ],
      "execution_count": 65,
      "outputs": [
        {
          "output_type": "execute_result",
          "data": {
            "text/plain": [
              "tensor([  930,  4450,   109, 10920,  1704])"
            ]
          },
          "metadata": {
            "tags": []
          },
          "execution_count": 65
        }
      ]
    },
    {
      "cell_type": "code",
      "metadata": {
        "id": "2Vph8g759tc2",
        "outputId": "78901db0-c4d6-4b73-c8e4-99457fb048e5",
        "colab": {
          "base_uri": "https://localhost:8080/"
        }
      },
      "source": [
        "x.shape, y.shape"
      ],
      "execution_count": 66,
      "outputs": [
        {
          "output_type": "execute_result",
          "data": {
            "text/plain": [
              "(torch.Size([512]), torch.Size([512]))"
            ]
          },
          "metadata": {
            "tags": []
          },
          "execution_count": 66
        }
      ]
    },
    {
      "cell_type": "code",
      "metadata": {
        "id": "qhqEKjkD9tc6"
      },
      "source": [
        "class CBOW(torch.nn.Module):\n",
        "    \n",
        "    def __init__(self, vocab_size, embedding_dim, pad_index):\n",
        "        \n",
        "        super().__init__()\n",
        "        \n",
        "        if pad_index > 0:\n",
        "            vocab_size += 1\n",
        "        \n",
        "        self.in_embedding = torch.nn.Embedding(num_embeddings=vocab_size, \n",
        "                                               embedding_dim=embedding_dim,\n",
        "                                               padding_idx=pad_index)\n",
        "        \n",
        "        self.out_embedding = torch.nn.Linear(in_features=embedding_dim,\n",
        "                                             out_features=vocab_size, bias=False)\n",
        "        \n",
        "    def forward(self, x):\n",
        "        \n",
        "        x = self.in_embedding(x).sum(dim=-2)\n",
        "        x = self.out_embedding(x)\n",
        "        \n",
        "        return x"
      ],
      "execution_count": 67,
      "outputs": []
    },
    {
      "cell_type": "markdown",
      "metadata": {
        "id": "koMfcdcs9tc-"
      },
      "source": [
        "# Мы будем учить модель Skipgram\n",
        "Реализуйте ее"
      ]
    },
    {
      "cell_type": "code",
      "metadata": {
        "id": "IAxxQM9u9tdA"
      },
      "source": [
        "# CODE\n",
        "class SkipGram(torch.nn.Module):\n",
        "    \n",
        "    def __init__(self, vocab_size, embedding_dim):\n",
        "        \n",
        "        super().__init__()\n",
        "\n",
        "        self.in_embedding = torch.nn.Embedding(num_embeddings=vocab_size, \n",
        "                                               embedding_dim=embedding_dim)\n",
        "        \n",
        "        self.out_embedding = torch.nn.Linear(in_features=embedding_dim,\n",
        "                                             out_features=vocab_size, bias=False)\n",
        "        \n",
        "    def forward(self, x):\n",
        "        \n",
        "        x = self.in_embedding(x)\n",
        "        x = self.out_embedding(x)\n",
        "        \n",
        "        return x"
      ],
      "execution_count": 68,
      "outputs": []
    },
    {
      "cell_type": "code",
      "metadata": {
        "id": "OnxQJlxN9tdF"
      },
      "source": [
        "#from word2vec_utils import SkipGram"
      ],
      "execution_count": 69,
      "outputs": []
    },
    {
      "cell_type": "code",
      "metadata": {
        "id": "XIhwgIFU9tdL"
      },
      "source": [
        "# размерность эмбеддинга\n",
        "# маленькая, чтобы мы могли недолго поучить ворд2век и увидеть результаты\n",
        "EMBEDDING_DIM = 20"
      ],
      "execution_count": 70,
      "outputs": []
    },
    {
      "cell_type": "code",
      "metadata": {
        "id": "-zcLNW4F9tdQ"
      },
      "source": [
        "model = SkipGram(vocab_size=len(word2index), embedding_dim=EMBEDDING_DIM)"
      ],
      "execution_count": 71,
      "outputs": []
    },
    {
      "cell_type": "code",
      "metadata": {
        "id": "VqbhGXrL9tdS",
        "outputId": "a30ab94a-80af-4aa5-f0f5-e31d4a0ca71f",
        "colab": {
          "base_uri": "https://localhost:8080/"
        }
      },
      "source": [
        "with torch.no_grad():\n",
        "    pred = model(x)\n",
        "\n",
        "pred.shape"
      ],
      "execution_count": 72,
      "outputs": [
        {
          "output_type": "execute_result",
          "data": {
            "text/plain": [
              "torch.Size([512, 13076])"
            ]
          },
          "metadata": {
            "tags": []
          },
          "execution_count": 72
        }
      ]
    },
    {
      "cell_type": "code",
      "metadata": {
        "id": "pm3e0_-w9tdW"
      },
      "source": [
        "optimizer = torch.optim.Adam(params=model.parameters(), lr=0.0001)\n",
        "\n",
        "# aka loss function\n",
        "criterion = torch.nn.CrossEntropyLoss()"
      ],
      "execution_count": 73,
      "outputs": []
    },
    {
      "cell_type": "markdown",
      "metadata": {
        "id": "oXbs1dkR9tdb"
      },
      "source": [
        "# Допишите обучалку"
      ]
    },
    {
      "cell_type": "code",
      "metadata": {
        "id": "T4Y3b_yk9tdf",
        "outputId": "e0ac4317-c033-4cf7-9c48-67f6ec17cfd4",
        "colab": {
          "base_uri": "https://localhost:8080/"
        }
      },
      "source": [
        "epochs = 3\n",
        "\n",
        "losses = []\n",
        "\n",
        "for n_epoch in range(epochs):\n",
        "\n",
        "    try:\n",
        "\n",
        "        progress_bar = tqdm(total=len(dataset_loader.dataset), desc='Epoch {}'.format(n_epoch + 1))\n",
        "\n",
        "        for x, y in dataset_loader:\n",
        "        \n",
        "            pred = model(x)\n",
        "        \n",
        "            loss = criterion(pred, y)\n",
        "        \n",
        "            loss.backward()\n",
        "        \n",
        "            optimizer.step()\n",
        "        \n",
        "            losses.append(loss.item())\n",
        "        \n",
        "            progress_bar.set_postfix(train_loss = np.mean(losses[-100:]))\n",
        "\n",
        "            progress_bar.update(x.shape[0])\n",
        "        \n",
        "        progress_bar.close()\n",
        "\n",
        "    except KeyboardInterrupt:\n",
        "\n",
        "        progress_bar.close()\n",
        "        break"
      ],
      "execution_count": 74,
      "outputs": [
        {
          "output_type": "stream",
          "text": [
            "Epoch 1: 100%|██████████| 2983140/2983140 [08:00<00:00, 6202.04it/s, train_loss=7.37]\n",
            "Epoch 2: 100%|██████████| 2983140/2983140 [07:59<00:00, 6215.74it/s, train_loss=7.29]\n",
            "Epoch 3: 100%|██████████| 2983140/2983140 [08:02<00:00, 6177.75it/s, train_loss=7.13]\n"
          ],
          "name": "stderr"
        }
      ]
    },
    {
      "cell_type": "code",
      "metadata": {
        "id": "4NT1bzZpJ-uB",
        "outputId": "e923f52a-521e-409a-d542-3301db269b93",
        "colab": {
          "base_uri": "https://localhost:8080/",
          "height": 910
        }
      },
      "source": [
        "plt.title('SkipGram Training Process')\n",
        "plt.xlabel('Itearations')\n",
        "plt.ylabel('Loss')\n",
        "plt.grid()\n",
        "plt.plot(losses)"
      ],
      "execution_count": 75,
      "outputs": [
        {
          "output_type": "execute_result",
          "data": {
            "text/plain": [
              "[<matplotlib.lines.Line2D at 0x7faaa5b54e80>]"
            ]
          },
          "metadata": {
            "tags": []
          },
          "execution_count": 75
        },
        {
          "output_type": "display_data",
          "data": {
            "image/png": "[encoded data removed]",
            "text/plain": [
              "<Figure size 1080x1080 with 1 Axes>"
            ]
          },
          "metadata": {
            "tags": [],
            "needs_background": "light"
          }
        }
      ]
    },
    {
      "cell_type": "code",
      "metadata": {
        "id": "9mbYyMe-9tdo"
      },
      "source": [
        "# проверка, что хоть что-то выучилось\n",
        "assert np.mean(losses[-1000:]) < 7.5"
      ],
      "execution_count": 76,
      "outputs": []
    },
    {
      "cell_type": "code",
      "metadata": {
        "id": "hvKosgw49tdr"
      },
      "source": [
        "embedding_matrix = model.in_embedding.weight.detach()"
      ],
      "execution_count": 77,
      "outputs": []
    },
    {
      "cell_type": "code",
      "metadata": {
        "id": "HJulSz149tdu"
      },
      "source": [
        "def cos_sim(embedding_matrix, token2id, word1, word2):\n",
        "    \n",
        "    i1 = token2id[word1]\n",
        "    i2 = token2id[word2]\n",
        "    \n",
        "    v1, v2 = embedding_matrix[i1], embedding_matrix[i2]\n",
        "    \n",
        "    v1_n = v1.div(v1.norm(keepdim=True))\n",
        "    v2_n = v2.div(v2.norm(keepdim=True))\n",
        "    \n",
        "    similarity = torch.dot(v1_n, v2_n).item()\n",
        "    \n",
        "    return similarity"
      ],
      "execution_count": 78,
      "outputs": []
    },
    {
      "cell_type": "markdown",
      "metadata": {
        "id": "UcDZV7ah9tdw"
      },
      "source": [
        "# Косинусная близость\n",
        "От 0 до 1, где 0 - вектора абсолютно разные, где 1 - идентичные."
      ]
    },
    {
      "cell_type": "code",
      "metadata": {
        "id": "c-4fhZwB9tdx",
        "outputId": "717d407d-5006-4da4-9550-134ac9f0d94c",
        "colab": {
          "base_uri": "https://localhost:8080/"
        }
      },
      "source": [
        "cos_sim(embedding_matrix, word2index, 'день', 'месяц')"
      ],
      "execution_count": 79,
      "outputs": [
        {
          "output_type": "execute_result",
          "data": {
            "text/plain": [
              "0.8763153553009033"
            ]
          },
          "metadata": {
            "tags": []
          },
          "execution_count": 79
        }
      ]
    },
    {
      "cell_type": "code",
      "metadata": {
        "id": "4I8OhU1d9td0",
        "outputId": "2a7f7c29-efb8-4d80-915f-c35b838ad97a",
        "colab": {
          "base_uri": "https://localhost:8080/"
        }
      },
      "source": [
        "cos_sim(embedding_matrix, word2index, 'минута', 'месяц')"
      ],
      "execution_count": 80,
      "outputs": [
        {
          "output_type": "execute_result",
          "data": {
            "text/plain": [
              "0.505827784538269"
            ]
          },
          "metadata": {
            "tags": []
          },
          "execution_count": 80
        }
      ]
    },
    {
      "cell_type": "code",
      "metadata": {
        "id": "xgfzf_OE9td2",
        "outputId": "c5ca701e-2821-416c-a1e9-955bb3e106d2",
        "colab": {
          "base_uri": "https://localhost:8080/"
        }
      },
      "source": [
        "cos_sim(embedding_matrix, word2index, 'сотрудник', 'сотрудница')"
      ],
      "execution_count": 81,
      "outputs": [
        {
          "output_type": "execute_result",
          "data": {
            "text/plain": [
              "0.8237082958221436"
            ]
          },
          "metadata": {
            "tags": []
          },
          "execution_count": 81
        }
      ]
    },
    {
      "cell_type": "code",
      "metadata": {
        "id": "k_ZmgAHM9td5",
        "outputId": "22e8cde0-b074-4553-e41c-b9b669f0ef87",
        "colab": {
          "base_uri": "https://localhost:8080/"
        }
      },
      "source": [
        "cos_sim(embedding_matrix, word2index, 'вклад', 'перевод')"
      ],
      "execution_count": 82,
      "outputs": [
        {
          "output_type": "execute_result",
          "data": {
            "text/plain": [
              "0.6727296710014343"
            ]
          },
          "metadata": {
            "tags": []
          },
          "execution_count": 82
        }
      ]
    },
    {
      "cell_type": "code",
      "metadata": {
        "id": "OPHFQkdg9td8",
        "outputId": "afcf38e0-daad-438d-874b-a4138418bd6d",
        "colab": {
          "base_uri": "https://localhost:8080/",
          "height": 35
        }
      },
      "source": [
        "random_word = random.choice(list(word2index.keys()))\n",
        "sim = cos_sim(embedding_matrix, word2index, 'день', random_word)\n",
        "'Косинусная близость слова \"день\" к случайному выбраному слову \"{}\" равна {:.3f}'.format(random_word, sim)"
      ],
      "execution_count": 83,
      "outputs": [
        {
          "output_type": "execute_result",
          "data": {
            "application/vnd.google.colaboratory.intrinsic+json": {
              "type": "string"
            },
            "text/plain": [
              "'Косинусная близость слова \"день\" к случайному выбраному слову \"чистить\" равна 0.105'"
            ]
          },
          "metadata": {
            "tags": []
          },
          "execution_count": 83
        }
      ]
    },
    {
      "cell_type": "code",
      "metadata": {
        "id": "pmhw6uIs9teA"
      },
      "source": [
        "freq = {}\n",
        "\n",
        "for text in corpus:\n",
        "    for token in text:\n",
        "        if token in freq:\n",
        "            freq[token] += 1\n",
        "        else:\n",
        "            freq[token] = 1"
      ],
      "execution_count": 84,
      "outputs": []
    },
    {
      "cell_type": "code",
      "metadata": {
        "id": "ewRc_9fc9teC"
      },
      "source": [
        "sorted_freq = [(k, freq[k]) for k in sorted(freq, key=freq.get, reverse=True)]\n",
        "top_sorted_freq = sorted_freq[0:200]"
      ],
      "execution_count": 85,
      "outputs": []
    },
    {
      "cell_type": "code",
      "metadata": {
        "id": "zR-cMO909teF",
        "outputId": "86b8a34e-9841-440d-9d2b-bf8a981cb896",
        "colab": {
          "base_uri": "https://localhost:8080/"
        }
      },
      "source": [
        "tsne = TSNE(n_components=2, init='pca', random_state=42, verbose=2)\n",
        "reduced = tsne.fit_transform(embedding_matrix)"
      ],
      "execution_count": 86,
      "outputs": [
        {
          "output_type": "stream",
          "text": [
            "[t-SNE] Computing 91 nearest neighbors...\n",
            "[t-SNE] Indexed 13076 samples in 0.046s...\n",
            "[t-SNE] Computed neighbors for 13076 samples in 9.304s...\n",
            "[t-SNE] Computed conditional probabilities for sample 1000 / 13076\n",
            "[t-SNE] Computed conditional probabilities for sample 2000 / 13076\n",
            "[t-SNE] Computed conditional probabilities for sample 3000 / 13076\n",
            "[t-SNE] Computed conditional probabilities for sample 4000 / 13076\n",
            "[t-SNE] Computed conditional probabilities for sample 5000 / 13076\n",
            "[t-SNE] Computed conditional probabilities for sample 6000 / 13076\n",
            "[t-SNE] Computed conditional probabilities for sample 7000 / 13076\n",
            "[t-SNE] Computed conditional probabilities for sample 8000 / 13076\n",
            "[t-SNE] Computed conditional probabilities for sample 9000 / 13076\n",
            "[t-SNE] Computed conditional probabilities for sample 10000 / 13076\n",
            "[t-SNE] Computed conditional probabilities for sample 11000 / 13076\n",
            "[t-SNE] Computed conditional probabilities for sample 12000 / 13076\n",
            "[t-SNE] Computed conditional probabilities for sample 13000 / 13076\n",
            "[t-SNE] Computed conditional probabilities for sample 13076 / 13076\n",
            "[t-SNE] Mean sigma: 1.017447\n",
            "[t-SNE] Computed conditional probabilities in 0.733s\n",
            "[t-SNE] Iteration 50: error = 97.3580170, gradient norm = 0.0002002 (50 iterations in 13.175s)\n",
            "[t-SNE] Iteration 100: error = 97.4121552, gradient norm = 0.0000088 (50 iterations in 5.792s)\n",
            "[t-SNE] Iteration 150: error = 97.4152069, gradient norm = 0.0000046 (50 iterations in 5.545s)\n",
            "[t-SNE] Iteration 200: error = 97.4153595, gradient norm = 0.0000052 (50 iterations in 5.478s)\n",
            "[t-SNE] Iteration 250: error = 97.4153595, gradient norm = 0.0000038 (50 iterations in 5.495s)\n",
            "[t-SNE] KL divergence after 250 iterations with early exaggeration: 97.415359\n",
            "[t-SNE] Iteration 300: error = 4.8095036, gradient norm = 0.0007325 (50 iterations in 6.194s)\n",
            "[t-SNE] Iteration 350: error = 4.2917695, gradient norm = 0.0006421 (50 iterations in 9.071s)\n",
            "[t-SNE] Iteration 400: error = 4.1551595, gradient norm = 0.0003336 (50 iterations in 7.754s)\n",
            "[t-SNE] Iteration 450: error = 4.0724354, gradient norm = 0.0002281 (50 iterations in 7.487s)\n",
            "[t-SNE] Iteration 500: error = 4.0123024, gradient norm = 0.0001697 (50 iterations in 7.281s)\n",
            "[t-SNE] Iteration 550: error = 3.9683118, gradient norm = 0.0001365 (50 iterations in 7.166s)\n",
            "[t-SNE] Iteration 600: error = 3.9334483, gradient norm = 0.0001081 (50 iterations in 7.237s)\n",
            "[t-SNE] Iteration 650: error = 3.9048491, gradient norm = 0.0000901 (50 iterations in 7.135s)\n",
            "[t-SNE] Iteration 700: error = 3.8807406, gradient norm = 0.0000787 (50 iterations in 7.200s)\n",
            "[t-SNE] Iteration 750: error = 3.8604550, gradient norm = 0.0000689 (50 iterations in 7.417s)\n",
            "[t-SNE] Iteration 800: error = 3.8429475, gradient norm = 0.0000597 (50 iterations in 7.390s)\n",
            "[t-SNE] Iteration 850: error = 3.8277237, gradient norm = 0.0000541 (50 iterations in 7.422s)\n",
            "[t-SNE] Iteration 900: error = 3.8146446, gradient norm = 0.0000494 (50 iterations in 7.567s)\n",
            "[t-SNE] Iteration 950: error = 3.8033376, gradient norm = 0.0000455 (50 iterations in 7.560s)\n",
            "[t-SNE] Iteration 1000: error = 3.7934692, gradient norm = 0.0000425 (50 iterations in 7.462s)\n",
            "[t-SNE] KL divergence after 1000 iterations: 3.793469\n"
          ],
          "name": "stdout"
        }
      ]
    },
    {
      "cell_type": "code",
      "metadata": {
        "id": "iuSVKh6c9teH"
      },
      "source": [
        "top_words = [a for a,_ in top_sorted_freq]"
      ],
      "execution_count": 87,
      "outputs": []
    },
    {
      "cell_type": "code",
      "metadata": {
        "id": "1Ifkq91A9teJ"
      },
      "source": [
        "inds = [word2index[word] for word in top_words]\n",
        "x_coords = [coords[0] for coords in reduced[inds]]\n",
        "y_coords = [coords[1] for coords in reduced[inds]]"
      ],
      "execution_count": 88,
      "outputs": []
    },
    {
      "cell_type": "code",
      "metadata": {
        "id": "zLGvF7P59teL",
        "outputId": "4570342a-51f2-4bcd-8188-d9ac08c58345",
        "colab": {
          "base_uri": "https://localhost:8080/",
          "height": 863
        }
      },
      "source": [
        "for (x, y, word) in zip(x_coords, y_coords, top_words):\n",
        "    plt.scatter(x, y, marker='.', color='blue')\n",
        "    plt.text(x+0.01, y+0.01, word, fontsize=9)\n",
        "plt.show()"
      ],
      "execution_count": 89,
      "outputs": [
        {
          "output_type": "display_data",
          "data": {
            "image/png": "[encoded data removed]",
            "text/plain": [
              "<Figure size 1080x1080 with 1 Axes>"
            ]
          },
          "metadata": {
            "tags": [],
            "needs_background": "light"
          }
        }
      ]
    },
    {
      "cell_type": "code",
      "metadata": {
        "id": "UdcChWwa9teN"
      },
      "source": [
        ""
      ],
      "execution_count": null,
      "outputs": []
    }
  ]
}